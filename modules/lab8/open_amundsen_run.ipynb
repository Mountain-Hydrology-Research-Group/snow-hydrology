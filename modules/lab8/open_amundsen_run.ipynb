{
 "cells": [
  {
   "cell_type": "code",
   "execution_count": 1,
   "metadata": {},
   "outputs": [
    {
     "name": "stderr",
     "output_type": "stream",
     "text": [
      "OMP: Info #276: omp_set_nested routine deprecated, please use omp_set_max_active_levels instead.\n"
     ]
    }
   ],
   "source": [
    "import openamundsen as oa\n",
    "import xarray as xr"
   ]
  },
  {
   "cell_type": "markdown",
   "metadata": {},
   "source": [
    "# Run Model"
   ]
  },
  {
   "cell_type": "code",
   "execution_count": 2,
   "metadata": {},
   "outputs": [],
   "source": [
    "config = oa.read_config('open_amundsen_config.yml')  # read in configuration file\n",
    "model = oa.OpenAmundsen(config)  # create OpenAmundsen object and populate unspecified parameters with default values"
   ]
  },
  {
   "cell_type": "code",
   "execution_count": 3,
   "metadata": {},
   "outputs": [
    {
     "name": "stderr",
     "output_type": "stream",
     "text": [
      "\u001b[32m2025-02-10 01:52:57\u001b[0m | \u001b[1mINFO    \u001b[0m | \u001b[1mInitializing model grid\u001b[0m\n",
      "\u001b[32m2025-02-10 01:52:58\u001b[0m | \u001b[1mINFO    \u001b[0m | \u001b[1mGrid has dimensions 836x655\u001b[0m\n",
      "\u001b[32m2025-02-10 01:52:58\u001b[0m | \u001b[1mINFO    \u001b[0m | \u001b[1mReading DEM (../data/openamundsen/dem_uppereastriver_50.asc)\u001b[0m\n",
      "\u001b[32m2025-02-10 01:52:58\u001b[0m | \u001b[1mINFO    \u001b[0m | \u001b[1mReading sky view factor (../data/openamundsen/svf_uppereastriver_50.asc)\u001b[0m\n",
      "\u001b[32m2025-02-10 01:52:58\u001b[0m | \u001b[1mINFO    \u001b[0m | \u001b[1mReading ROI (../data/openamundsen/roi_uppereastriver_50.asc)\u001b[0m\n",
      "\u001b[32m2025-02-10 01:52:58\u001b[0m | \u001b[1mINFO    \u001b[0m | \u001b[1mReading meteo file: ../data/openamundsen/1.csv\u001b[0m\n",
      "\u001b[32m2025-02-10 01:52:58\u001b[0m | \u001b[1mINFO    \u001b[0m | \u001b[1mCorrecting station precipitation with method: wmo\u001b[0m\n",
      "\u001b[32m2025-02-10 01:52:58\u001b[0m | \u001b[1mINFO    \u001b[0m | \u001b[1mCalculating terrain parameters\u001b[0m\n"
     ]
    }
   ],
   "source": [
    "model.initialize()  # read in input data files, initialize state variables etc."
   ]
  },
  {
   "cell_type": "code",
   "execution_count": null,
   "metadata": {},
   "outputs": [],
   "source": [
    "model.run()  # run the model"
   ]
  },
  {
   "cell_type": "code",
   "execution_count": null,
   "metadata": {},
   "outputs": [],
   "source": [
    "ls openamundsen_results/"
   ]
  },
  {
   "cell_type": "markdown",
   "metadata": {},
   "source": [
    "# Examine results"
   ]
  },
  {
   "cell_type": "code",
   "execution_count": null,
   "metadata": {},
   "outputs": [],
   "source": [
    "results = xr.open_dataset(\"openamundsen_results/output_timeseries.nc\")"
   ]
  },
  {
   "cell_type": "code",
   "execution_count": null,
   "metadata": {},
   "outputs": [],
   "source": [
    "results.swe.sel(point='kps').plot()"
   ]
  },
  {
   "cell_type": "code",
   "execution_count": null,
   "metadata": {},
   "outputs": [],
   "source": [
    "results['snow_depth'].sel(point='kps').plot()"
   ]
  },
  {
   "cell_type": "code",
   "execution_count": null,
   "metadata": {},
   "outputs": [],
   "source": [
    "results['sublimation'].sel(point='kps').plot()"
   ]
  },
  {
   "cell_type": "code",
   "execution_count": null,
   "metadata": {},
   "outputs": [],
   "source": [
    "results = xr.open_dataset(\"openamundsen_results/output_grids.nc\")"
   ]
  },
  {
   "cell_type": "code",
   "execution_count": null,
   "metadata": {},
   "outputs": [],
   "source": [
    "results['swe'].sel(time2 = '2023-03-16T00:00:00.000000000').plot()"
   ]
  },
  {
   "cell_type": "code",
   "execution_count": null,
   "metadata": {},
   "outputs": [],
   "source": []
  }
 ],
 "metadata": {
  "kernelspec": {
   "display_name": "openamundsen",
   "language": "python",
   "name": "python3"
  },
  "language_info": {
   "codemirror_mode": {
    "name": "ipython",
    "version": 3
   },
   "file_extension": ".py",
   "mimetype": "text/x-python",
   "name": "python",
   "nbconvert_exporter": "python",
   "pygments_lexer": "ipython3",
   "version": "3.12.8"
  }
 },
 "nbformat": 4,
 "nbformat_minor": 2
}
