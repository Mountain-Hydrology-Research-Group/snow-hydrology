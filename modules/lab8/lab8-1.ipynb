{
 "cells": [
  {
   "cell_type": "markdown",
   "metadata": {},
   "source": [
    "# Lab 8-1: Predicting streamflow with the SWE regression method"
   ]
  },
  {
   "cell_type": "markdown",
   "metadata": {},
   "source": [
    "In this lab, we will use SWE measurements from the East River Valley (SNOTEL sites, plus the Kettle Ponds measurements) as well as USGS streamflow measurments from gage number 09112200. We will fit a linear regression to the streamflow-SWE relationship and use it to predict streamflow based on SWE measurements at Kettle Ponds."
   ]
  },
  {
   "cell_type": "code",
   "execution_count": null,
   "metadata": {},
   "outputs": [],
   "source": [
    "import pandas as pd\n",
    "\n",
    "# info for this package here: https://doi-usgs.github.io/dataRetrieval/reference/readNWISdv.html\n",
    "import dataretrieval.nwis as nwis\n",
    "\n",
    "from metloom.pointdata import SnotelPointData\n",
    "from datetime import datetime\n",
    "import altair as alt\n",
    "from scipy.stats import linregress\n",
    "import numpy as np\n",
    "import xarray as xr\n",
    "from metpy.units import units"
   ]
  },
  {
   "cell_type": "code",
   "execution_count": null,
   "metadata": {},
   "outputs": [],
   "source": [
    "#pip install dataretrieval"
   ]
  },
  {
   "cell_type": "code",
   "execution_count": null,
   "metadata": {},
   "outputs": [],
   "source": [
    "start_date = '1990-01-01'\n",
    "end_date = '2024-01-10'"
   ]
  },
  {
   "cell_type": "markdown",
   "metadata": {},
   "source": [
    "## Download USGS Streamflow data\n",
    "\n",
    "We can download the streamflow gage data directly from a USGS gage."
   ]
  },
  {
   "cell_type": "code",
   "execution_count": null,
   "metadata": {},
   "outputs": [],
   "source": [
    "usgs_site_code = '09112200' # Replace with the desired USGS site number\n",
    "\n",
    "# 00060 is the parameter code for streamflow,\n",
    "# this function will return mean daily values of discharge in cubic feet per second\n",
    "streamflow_df, metadata = nwis.get_dv(sites=usgs_site_code, start=start_date, end=end_date, parameterCd='00060') \n",
    "streamflow_df = streamflow_df.rename(columns={'00060_Mean': 'mean_daily_streamflow'})"
   ]
  },
  {
   "cell_type": "markdown",
   "metadata": {},
   "source": [
    "Streamflow-SWE relationships are usually created for *total spring* streamflow, so we calculate here the total stream flow betwen April-July.\n",
    "Calculate the total April-July streamflow for each year. Note that the streamflow data came in CFS (cubic feet per second) so to get total streamflow for each day, we multiple the mean daily CFS value by the number of seconds in a day. Because these numbers end up being quite large, we convert from cubic feet to acre-feet. An acre-foot is the amount of water that covers an acre of land in a foot of water; it's a common unit used in water resources."
   ]
  },
  {
   "cell_type": "code",
   "execution_count": null,
   "metadata": {},
   "outputs": [],
   "source": [
    "seconds_in_a_day = 60*60*24\n",
    "streamflow_df['daily_total_streamflow'] = streamflow_df['mean_daily_streamflow'] * seconds_in_a_day\n",
    "\n",
    "streamflow_df['year'] = streamflow_df.index.year\n",
    "streamflow_df['month'] = streamflow_df.index.month\n",
    "df_amjj = streamflow_df[streamflow_df.month.isin([4,5,6,7])]\n",
    "df_amjj = df_amjj.groupby('year')[['daily_total_streamflow']].sum()\n",
    "\n",
    "# Note that 1 cubic foot is equal to 2.30e-5 acre feet. Let's convert\n",
    "df_amjj['daily_total_streamflow'] = df_amjj['daily_total_streamflow'] * 2.30e-5\n",
    "df_amjj = df_amjj.rename(columns={'daily_total_streamflow': 'Seasonal total streamflow (acre-feet)'})\n",
    "df_amjj"
   ]
  },
  {
   "cell_type": "markdown",
   "metadata": {},
   "source": [
    "## Download SNOTEL SWE data\n",
    "\n",
    "We have downloaded SNOTEL data in pervious labs, so we don't discuss this much here."
   ]
  },
  {
   "cell_type": "code",
   "execution_count": null,
   "metadata": {},
   "outputs": [],
   "source": [
    "snotel_point_butte = SnotelPointData(\"380:CO:SNTL\", \"Butte\")\n",
    "SNOTEL_VARS = [\n",
    "    snotel_point_butte.ALLOWED_VARIABLES.SWE,\n",
    "]\n",
    "df_butte_longterm = snotel_point_butte.get_daily_data(\n",
    "    datetime(df_amjj.index.min() - 1, 10, 1), datetime(df_amjj.index.max(), 7, 1),\n",
    "    SNOTEL_VARS\n",
    ")"
   ]
  },
  {
   "cell_type": "markdown",
   "metadata": {},
   "source": [
    "Streamflow-SWE relationships usually use April 1st SWE, so we grab the April 1 SWE from the snotel station, for each year."
   ]
  },
  {
   "cell_type": "code",
   "execution_count": null,
   "metadata": {},
   "outputs": [],
   "source": [
    "df_april1_swe = df_butte_longterm[\n",
    "    (df_butte_longterm.index.get_level_values(0).month == 4)\n",
    "    &\n",
    "    (df_butte_longterm.index.get_level_values(0).day == 1)\n",
    "]"
   ]
  },
  {
   "cell_type": "markdown",
   "metadata": {},
   "source": [
    "## Combine SWE and Streamflow data\n",
    "\n",
    "Join the two dataframes into one dataframe."
   ]
  },
  {
   "cell_type": "code",
   "execution_count": null,
   "metadata": {},
   "outputs": [],
   "source": [
    "df_april1_swe.index = df_april1_swe.index.get_level_values(0).year"
   ]
  },
  {
   "cell_type": "code",
   "execution_count": null,
   "metadata": {},
   "outputs": [],
   "source": [
    "df_swe_and_streamflow = df_april1_swe.join(df_amjj)"
   ]
  },
  {
   "cell_type": "markdown",
   "metadata": {},
   "source": [
    "Now that the tables are joined, we can look at the relationship between SWE and Streamflow across all years of data."
   ]
  },
  {
   "cell_type": "code",
   "execution_count": null,
   "metadata": {},
   "outputs": [],
   "source": [
    "alt.Chart(df_swe_and_streamflow).mark_point().encode(\n",
    "    alt.X('SWE:Q'),\n",
    "    alt.Y('Seasonal total streamflow (acre-feet):Q')\n",
    ")"
   ]
  },
  {
   "cell_type": "markdown",
   "metadata": {},
   "source": [
    "## Perform a linear regression."
   ]
  },
  {
   "cell_type": "markdown",
   "metadata": {},
   "source": [
    "Fit a line to the columns 'SWE' 'Seasonal total streamflow (acre-feet)'"
   ]
  },
  {
   "cell_type": "code",
   "execution_count": null,
   "metadata": {},
   "outputs": [],
   "source": [
    "(slope, intercept, r_value, p_value, std_err) = (\n",
    "    linregress(df_swe_and_streamflow['SWE'], df_swe_and_streamflow['Seasonal total streamflow (acre-feet)'])\n",
    ")"
   ]
  },
  {
   "cell_type": "code",
   "execution_count": null,
   "metadata": {},
   "outputs": [],
   "source": [
    "fit_line_x_values = np.linspace(0, 22, 100)\n",
    "fit_lin_y_values = intercept + slope * fit_line_x_values\n",
    "fit_line_df = pd.DataFrame({\n",
    "    'x': fit_line_x_values,\n",
    "    'y': fit_lin_y_values,\n",
    "})"
   ]
  },
  {
   "cell_type": "code",
   "execution_count": null,
   "metadata": {},
   "outputs": [],
   "source": [
    "alt.Chart(df_swe_and_streamflow).mark_point().encode(\n",
    "    alt.X('SWE:Q'),\n",
    "    alt.Y('Seasonal total streamflow (acre-feet):Q')\n",
    ") + alt.Chart(fit_line_df).mark_line(color='black').encode(\n",
    "    alt.X('x:Q').title(''),\n",
    "    alt.Y('y:Q').title('')\n",
    ") "
   ]
  },
  {
   "cell_type": "markdown",
   "metadata": {},
   "source": [
    "## Incorporate Kettle Ponds data"
   ]
  },
  {
   "cell_type": "markdown",
   "metadata": {},
   "source": [
    "Now pull in SWE data from the Kettle Ponds and see how well the linear regression model works for the four SWE measurements at Kettle Ponds for Spring 2023."
   ]
  },
  {
   "cell_type": "code",
   "execution_count": null,
   "metadata": {},
   "outputs": [],
   "source": [
    "sos_file = \"../data/sos_full_dataset_30min.nc\"\n",
    "sos_dataset = xr.open_dataset(sos_file)"
   ]
  },
  {
   "cell_type": "markdown",
   "metadata": {},
   "source": [
    "Here, we separate out the Kettle Ponds April 1 SWE measurements from the SOS dataset. We convert to inches because the SNOTEL data comes in inches. The Kettle Ponds SWE data is in millimeters."
   ]
  },
  {
   "cell_type": "code",
   "execution_count": null,
   "metadata": {},
   "outputs": [],
   "source": [
    "kps_swe_values = sos_dataset.sel(time = '20230401 0000')[['SWE_p1_c', 'SWE_p2_c', 'SWE_p3_c', 'SWE_p4_c']].to_array().values\n",
    "kps_swe_values = (kps_swe_values * units(\"mm\")).to(units(\"inches\")).magnitude"
   ]
  },
  {
   "cell_type": "markdown",
   "metadata": {},
   "source": [
    "Now, we use the slope and intercept created using Snotel and USGS data above, to estimate streamflow using Kettle Ponds April 1 SWE."
   ]
  },
  {
   "cell_type": "code",
   "execution_count": null,
   "metadata": {},
   "outputs": [],
   "source": [
    "streamflow_predictions_from_kps = kps_swe_values * slope + intercept\n",
    "\n",
    "streamflow_predictions_from_kps = pd.DataFrame({\n",
    "    'SWE': kps_swe_values,\n",
    "    'Seasonal total streamflow (acre-feet)': streamflow_predictions_from_kps,\n",
    "})"
   ]
  },
  {
   "cell_type": "markdown",
   "metadata": {},
   "source": [
    "Now, let's plot:\n",
    "1) the SWE-Streamflow relationship above from Snotel and USGS data, all years\n",
    "2) the SWE-Streamflow relationship above from Snotel and USGS data, just from 2023\n",
    "3) the regression line fit above, and\n",
    "4) the SWE-Streamflow relationship from four snow pillow measurements of April 1 SWE at Kettle Ponds."
   ]
  },
  {
   "cell_type": "code",
   "execution_count": null,
   "metadata": {},
   "outputs": [],
   "source": [
    "# 1) the SWE-Streamflow relationship above from Snotel and USGS data, all years\n",
    "swe_streamflow_snotel = alt.Chart(\n",
    "        df_swe_and_streamflow.assign(label = 'Measured SWE (SNOTEL) and Streamflow')\n",
    "    ).mark_point().encode(\n",
    "        alt.X('SWE:Q'),\n",
    "        alt.Y('Seasonal total streamflow (acre-feet):Q'),\n",
    "        alt.Color('label:N')\n",
    "    )\n",
    "\n",
    "# 2) the SWE-Streamflow relationship above from Snotel and USGS data, just from 2023\n",
    "swe_streamflow_snotel_2023 = alt.Chart(\n",
    "        df_swe_and_streamflow.loc[2023:2023].assign(label = 'Measured SWE (SNOTEL) and Streamflow, 2023')\n",
    "    ).mark_point(size=200, shape='square').encode(\n",
    "        alt.X('SWE:Q'),\n",
    "        alt.Y('Seasonal total streamflow (acre-feet):Q'),\n",
    "        alt.Color('label:N').scale(range=['purple']).title('')\n",
    "    )\n",
    "\n",
    "# 3) the regression line fit above, and\n",
    "regression_line = alt.Chart(\n",
    "        fit_line_df.assign(label = 'Regression line')\n",
    "    ).mark_line(color='black').encode(\n",
    "        alt.X('x:Q').title(''),\n",
    "        alt.Y('y:Q').title(''),\n",
    "        alt.Color('label:N').scale(range=['black']).title('')\n",
    "    )\n",
    "\n",
    "# 4) the SWE-Streamflow relationship from four snow pillow measurements of April 1 SWE at Kettle Ponds.\n",
    "swe_streamflow_kettleponds = alt.Chart(\n",
    "        streamflow_predictions_from_kps.assign(label = 'Measured SWE at Kettle Ponds, Predicted Streamflow')\n",
    "    ).mark_point().encode(\n",
    "        alt.X('SWE:Q').title('April 1 SWE '),\n",
    "        alt.Y('Seasonal total streamflow (acre-feet):Q'),\n",
    "        alt.Color('label:N').scale(range=['red']).title('')\n",
    "    )\n",
    "\n",
    "(\n",
    "    swe_streamflow_snotel \n",
    "    + swe_streamflow_snotel_2023\n",
    "    + regression_line\n",
    "    + swe_streamflow_kettleponds\n",
    ").resolve_scale(color='independent').configure_legend(labelLimit=300)"
   ]
  },
  {
   "cell_type": "markdown",
   "metadata": {},
   "source": [
    "We see that total spring streamflow predicted for 2023 using Snotel data is *overestimated* by the linear regression (the line is above the purple square).\n",
    "\n",
    "Total spring streamflow predicted with Kettle Ponds SWE ranges from about 200,000 -- 260,000 acre-feet, a range that includes the actual streamflow value (the range of streamflow values, y-axis, associated with Kettle Ponds SWE (red dots), includes the actual streamflow value, the y-value associated with the purple box)."
   ]
  }
 ],
 "metadata": {
  "kernelspec": {
   "display_name": "snow-hydrology",
   "language": "python",
   "name": "python3"
  },
  "language_info": {
   "codemirror_mode": {
    "name": "ipython",
    "version": 3
   },
   "file_extension": ".py",
   "mimetype": "text/x-python",
   "name": "python",
   "nbconvert_exporter": "python",
   "pygments_lexer": "ipython3",
   "version": "3.10.13"
  }
 },
 "nbformat": 4,
 "nbformat_minor": 2
}
