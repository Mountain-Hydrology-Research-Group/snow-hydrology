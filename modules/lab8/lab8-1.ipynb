{
 "cells": [
  {
   "cell_type": "markdown",
   "metadata": {},
   "source": [
    "# Lab 8-1: Predicting streamflow with the SWE regression method"
   ]
  },
  {
   "cell_type": "markdown",
   "metadata": {},
   "source": [
    "In this lab, we will use SWE measurements from the East River Valley (SNOTEL sites, plus the Kettle Ponds measurements) as well as USGS streamflow measurments from gage number 09112200."
   ]
  },
  {
   "cell_type": "code",
   "execution_count": 76,
   "metadata": {},
   "outputs": [],
   "source": [
    "import pandas as pd\n",
    "\n",
    "# info for this package here: https://doi-usgs.github.io/dataRetrieval/reference/readNWISdv.html\n",
    "import dataretrieval.nwis as nwis\n",
    "\n",
    "from metloom.pointdata import SnotelPointData\n",
    "from datetime import datetime\n",
    "import altair as alt\n",
    "from scipy.stats import linregress\n",
    "import numpy as np\n",
    "import xarray as xr\n",
    "from metpy.units import units"
   ]
  },
  {
   "cell_type": "code",
   "execution_count": 41,
   "metadata": {},
   "outputs": [],
   "source": [
    "#pip install dataretrieval"
   ]
  },
  {
   "cell_type": "code",
   "execution_count": 3,
   "metadata": {},
   "outputs": [],
   "source": [
    "start_date = '1990-01-01'\n",
    "end_date = '2024-01-10'"
   ]
  },
  {
   "cell_type": "markdown",
   "metadata": {},
   "source": [
    "## Download USGS Streamflow data"
   ]
  },
  {
   "cell_type": "code",
   "execution_count": 4,
   "metadata": {},
   "outputs": [],
   "source": [
    "usgs_site_code = '09112200' # Replace with the desired USGS site number\n",
    "# 00060 is the parameter code for streamflow,\n",
    "# this function will return mean daily values of discharge in cubic feet per second\n",
    "streamflow_df, metadata = nwis.get_dv(sites=usgs_site_code, start=start_date, end=end_date, parameterCd='00060') \n",
    "streamflow_df = streamflow_df.rename(columns={'00060_Mean': 'mean_daily_streamflow'})"
   ]
  },
  {
   "cell_type": "markdown",
   "metadata": {},
   "source": [
    "Calculate the total April-July streamflow for each year"
   ]
  },
  {
   "cell_type": "code",
   "execution_count": 5,
   "metadata": {},
   "outputs": [
    {
     "data": {
      "text/html": [
       "<div>\n",
       "<style scoped>\n",
       "    .dataframe tbody tr th:only-of-type {\n",
       "        vertical-align: middle;\n",
       "    }\n",
       "\n",
       "    .dataframe tbody tr th {\n",
       "        vertical-align: top;\n",
       "    }\n",
       "\n",
       "    .dataframe thead th {\n",
       "        text-align: right;\n",
       "    }\n",
       "</style>\n",
       "<table border=\"1\" class=\"dataframe\">\n",
       "  <thead>\n",
       "    <tr style=\"text-align: right;\">\n",
       "      <th></th>\n",
       "      <th>Seasonal total streamflow (acre-feet)</th>\n",
       "    </tr>\n",
       "    <tr>\n",
       "      <th>year</th>\n",
       "      <th></th>\n",
       "    </tr>\n",
       "  </thead>\n",
       "  <tbody>\n",
       "    <tr>\n",
       "      <th>1994</th>\n",
       "      <td>160166.33280</td>\n",
       "    </tr>\n",
       "    <tr>\n",
       "      <th>1995</th>\n",
       "      <td>312791.24160</td>\n",
       "    </tr>\n",
       "    <tr>\n",
       "      <th>1996</th>\n",
       "      <td>236762.95680</td>\n",
       "    </tr>\n",
       "    <tr>\n",
       "      <th>1997</th>\n",
       "      <td>288948.81600</td>\n",
       "    </tr>\n",
       "    <tr>\n",
       "      <th>1998</th>\n",
       "      <td>153918.57600</td>\n",
       "    </tr>\n",
       "    <tr>\n",
       "      <th>1999</th>\n",
       "      <td>200737.00800</td>\n",
       "    </tr>\n",
       "    <tr>\n",
       "      <th>2000</th>\n",
       "      <td>143599.04640</td>\n",
       "    </tr>\n",
       "    <tr>\n",
       "      <th>2001</th>\n",
       "      <td>138869.51040</td>\n",
       "    </tr>\n",
       "    <tr>\n",
       "      <th>2002</th>\n",
       "      <td>70821.42336</td>\n",
       "    </tr>\n",
       "    <tr>\n",
       "      <th>2003</th>\n",
       "      <td>157178.18016</td>\n",
       "    </tr>\n",
       "    <tr>\n",
       "      <th>2004</th>\n",
       "      <td>125839.44000</td>\n",
       "    </tr>\n",
       "    <tr>\n",
       "      <th>2005</th>\n",
       "      <td>193059.65952</td>\n",
       "    </tr>\n",
       "    <tr>\n",
       "      <th>2006</th>\n",
       "      <td>178399.09152</td>\n",
       "    </tr>\n",
       "    <tr>\n",
       "      <th>2007</th>\n",
       "      <td>120273.29280</td>\n",
       "    </tr>\n",
       "    <tr>\n",
       "      <th>2008</th>\n",
       "      <td>254830.77792</td>\n",
       "    </tr>\n",
       "    <tr>\n",
       "      <th>2009</th>\n",
       "      <td>234487.21536</td>\n",
       "    </tr>\n",
       "    <tr>\n",
       "      <th>2010</th>\n",
       "      <td>165854.29536</td>\n",
       "    </tr>\n",
       "    <tr>\n",
       "      <th>2011</th>\n",
       "      <td>275356.16928</td>\n",
       "    </tr>\n",
       "    <tr>\n",
       "      <th>2012</th>\n",
       "      <td>66996.65952</td>\n",
       "    </tr>\n",
       "    <tr>\n",
       "      <th>2013</th>\n",
       "      <td>112420.27584</td>\n",
       "    </tr>\n",
       "    <tr>\n",
       "      <th>2014</th>\n",
       "      <td>226375.46496</td>\n",
       "    </tr>\n",
       "    <tr>\n",
       "      <th>2015</th>\n",
       "      <td>164703.11040</td>\n",
       "    </tr>\n",
       "    <tr>\n",
       "      <th>2016</th>\n",
       "      <td>150986.26368</td>\n",
       "    </tr>\n",
       "    <tr>\n",
       "      <th>2017</th>\n",
       "      <td>242269.48800</td>\n",
       "    </tr>\n",
       "    <tr>\n",
       "      <th>2018</th>\n",
       "      <td>80087.53824</td>\n",
       "    </tr>\n",
       "    <tr>\n",
       "      <th>2019</th>\n",
       "      <td>249610.99968</td>\n",
       "    </tr>\n",
       "    <tr>\n",
       "      <th>2020</th>\n",
       "      <td>112156.77312</td>\n",
       "    </tr>\n",
       "    <tr>\n",
       "      <th>2021</th>\n",
       "      <td>79424.01216</td>\n",
       "    </tr>\n",
       "    <tr>\n",
       "      <th>2022</th>\n",
       "      <td>149954.11200</td>\n",
       "    </tr>\n",
       "    <tr>\n",
       "      <th>2023</th>\n",
       "      <td>233700.28416</td>\n",
       "    </tr>\n",
       "  </tbody>\n",
       "</table>\n",
       "</div>"
      ],
      "text/plain": [
       "      Seasonal total streamflow (acre-feet)\n",
       "year                                       \n",
       "1994                           160166.33280\n",
       "1995                           312791.24160\n",
       "1996                           236762.95680\n",
       "1997                           288948.81600\n",
       "1998                           153918.57600\n",
       "1999                           200737.00800\n",
       "2000                           143599.04640\n",
       "2001                           138869.51040\n",
       "2002                            70821.42336\n",
       "2003                           157178.18016\n",
       "2004                           125839.44000\n",
       "2005                           193059.65952\n",
       "2006                           178399.09152\n",
       "2007                           120273.29280\n",
       "2008                           254830.77792\n",
       "2009                           234487.21536\n",
       "2010                           165854.29536\n",
       "2011                           275356.16928\n",
       "2012                            66996.65952\n",
       "2013                           112420.27584\n",
       "2014                           226375.46496\n",
       "2015                           164703.11040\n",
       "2016                           150986.26368\n",
       "2017                           242269.48800\n",
       "2018                            80087.53824\n",
       "2019                           249610.99968\n",
       "2020                           112156.77312\n",
       "2021                            79424.01216\n",
       "2022                           149954.11200\n",
       "2023                           233700.28416"
      ]
     },
     "execution_count": 5,
     "metadata": {},
     "output_type": "execute_result"
    }
   ],
   "source": [
    "seconds_in_a_day = 60*60*24\n",
    "streamflow_df['daily_total_streamflow'] = streamflow_df['mean_daily_streamflow'] * seconds_in_a_day\n",
    "\n",
    "streamflow_df['year'] = streamflow_df.index.year\n",
    "streamflow_df['month'] = streamflow_df.index.month\n",
    "df_amjj = streamflow_df[streamflow_df.month.isin([4,5,6,7])]\n",
    "df_amjj = df_amjj.groupby('year')[['daily_total_streamflow']].sum()\n",
    "\n",
    "# Note that 1 cubic foot is equal to 2.30e-5 acre feet. Let's convert\n",
    "df_amjj['daily_total_streamflow'] = df_amjj['daily_total_streamflow'] * 2.30e-5\n",
    "df_amjj = df_amjj.rename(columns={'daily_total_streamflow': 'Seasonal total streamflow (acre-feet)'})\n",
    "df_amjj"
   ]
  },
  {
   "cell_type": "markdown",
   "metadata": {},
   "source": [
    "## Download SNOTEL SWE data"
   ]
  },
  {
   "cell_type": "code",
   "execution_count": 27,
   "metadata": {},
   "outputs": [],
   "source": [
    "snotel_point_butte = SnotelPointData(\"380:CO:SNTL\", \"Butte\")\n",
    "SNOTEL_VARS = [\n",
    "    snotel_point_butte.ALLOWED_VARIABLES.SWE,\n",
    "]\n",
    "df_butte_longterm = snotel_point_butte.get_daily_data(\n",
    "    datetime(df_amjj.index.min() - 1, 10, 1), datetime(df_amjj.index.max(), 7, 1),\n",
    "    SNOTEL_VARS\n",
    ")"
   ]
  },
  {
   "cell_type": "code",
   "execution_count": 29,
   "metadata": {},
   "outputs": [],
   "source": [
    "df_april1_swe = df_butte_longterm[\n",
    "    (df_butte_longterm.index.get_level_values(0).month == 4)\n",
    "    &\n",
    "    (df_butte_longterm.index.get_level_values(0).day == 1)\n",
    "]"
   ]
  },
  {
   "cell_type": "markdown",
   "metadata": {},
   "source": [
    "## Combine SWE and Streamflow data"
   ]
  },
  {
   "cell_type": "code",
   "execution_count": 33,
   "metadata": {},
   "outputs": [],
   "source": [
    "df_april1_swe.index = df_april1_swe.index.get_level_values(0).year"
   ]
  },
  {
   "cell_type": "code",
   "execution_count": 37,
   "metadata": {},
   "outputs": [],
   "source": [
    "df_swe_and_streamflow = df_april1_swe.join(df_amjj)"
   ]
  },
  {
   "cell_type": "code",
   "execution_count": 42,
   "metadata": {},
   "outputs": [
    {
     "data": {
      "text/html": [
       "\n",
       "<style>\n",
       "  #altair-viz-a099bb1d8dd14d288b7a83941264217f.vega-embed {\n",
       "    width: 100%;\n",
       "    display: flex;\n",
       "  }\n",
       "\n",
       "  #altair-viz-a099bb1d8dd14d288b7a83941264217f.vega-embed details,\n",
       "  #altair-viz-a099bb1d8dd14d288b7a83941264217f.vega-embed details summary {\n",
       "    position: relative;\n",
       "  }\n",
       "</style>\n",
       "<div id=\"altair-viz-a099bb1d8dd14d288b7a83941264217f\"></div>\n",
       "<script type=\"text/javascript\">\n",
       "  var VEGA_DEBUG = (typeof VEGA_DEBUG == \"undefined\") ? {} : VEGA_DEBUG;\n",
       "  (function(spec, embedOpt){\n",
       "    let outputDiv = document.currentScript.previousElementSibling;\n",
       "    if (outputDiv.id !== \"altair-viz-a099bb1d8dd14d288b7a83941264217f\") {\n",
       "      outputDiv = document.getElementById(\"altair-viz-a099bb1d8dd14d288b7a83941264217f\");\n",
       "    }\n",
       "\n",
       "    const paths = {\n",
       "      \"vega\": \"https://cdn.jsdelivr.net/npm/vega@5?noext\",\n",
       "      \"vega-lib\": \"https://cdn.jsdelivr.net/npm/vega-lib?noext\",\n",
       "      \"vega-lite\": \"https://cdn.jsdelivr.net/npm/vega-lite@5.20.1?noext\",\n",
       "      \"vega-embed\": \"https://cdn.jsdelivr.net/npm/vega-embed@6?noext\",\n",
       "    };\n",
       "\n",
       "    function maybeLoadScript(lib, version) {\n",
       "      var key = `${lib.replace(\"-\", \"\")}_version`;\n",
       "      return (VEGA_DEBUG[key] == version) ?\n",
       "        Promise.resolve(paths[lib]) :\n",
       "        new Promise(function(resolve, reject) {\n",
       "          var s = document.createElement('script');\n",
       "          document.getElementsByTagName(\"head\")[0].appendChild(s);\n",
       "          s.async = true;\n",
       "          s.onload = () => {\n",
       "            VEGA_DEBUG[key] = version;\n",
       "            return resolve(paths[lib]);\n",
       "          };\n",
       "          s.onerror = () => reject(`Error loading script: ${paths[lib]}`);\n",
       "          s.src = paths[lib];\n",
       "        });\n",
       "    }\n",
       "\n",
       "    function showError(err) {\n",
       "      outputDiv.innerHTML = `<div class=\"error\" style=\"color:red;\">${err}</div>`;\n",
       "      throw err;\n",
       "    }\n",
       "\n",
       "    function displayChart(vegaEmbed) {\n",
       "      vegaEmbed(outputDiv, spec, embedOpt)\n",
       "        .catch(err => showError(`Javascript Error: ${err.message}<br>This usually means there's a typo in your chart specification. See the javascript console for the full traceback.`));\n",
       "    }\n",
       "\n",
       "    if(typeof define === \"function\" && define.amd) {\n",
       "      requirejs.config({paths});\n",
       "      let deps = [\"vega-embed\"];\n",
       "      require(deps, displayChart, err => showError(`Error loading script: ${err.message}`));\n",
       "    } else {\n",
       "      maybeLoadScript(\"vega\", \"5\")\n",
       "        .then(() => maybeLoadScript(\"vega-lite\", \"5.20.1\"))\n",
       "        .then(() => maybeLoadScript(\"vega-embed\", \"6\"))\n",
       "        .catch(showError)\n",
       "        .then(() => displayChart(vegaEmbed));\n",
       "    }\n",
       "  })({\"config\": {\"view\": {\"continuousWidth\": 300, \"continuousHeight\": 300}}, \"data\": {\"name\": \"data-a07800b8b20a72984cb918f6c43d5755\"}, \"mark\": {\"type\": \"point\"}, \"encoding\": {\"x\": {\"field\": \"SWE\", \"type\": \"quantitative\"}, \"y\": {\"field\": \"Seasonal total streamflow (acre-feet)\", \"type\": \"quantitative\"}}, \"$schema\": \"https://vega.github.io/schema/vega-lite/v5.20.1.json\", \"datasets\": {\"data-a07800b8b20a72984cb918f6c43d5755\": [{\"SWE\": 11.8, \"SWE_units\": \"in\", \"datasource\": \"NRCS\", \"Seasonal total streamflow (acre-feet)\": 160166.3328, \"type\": \"Feature\", \"geometry\": {\"type\": \"Point\", \"coordinates\": [-106.95327, 38.89435, 10190.0]}}, {\"SWE\": 20.6, \"SWE_units\": \"in\", \"datasource\": \"NRCS\", \"Seasonal total streamflow (acre-feet)\": 312791.2416, \"type\": \"Feature\", \"geometry\": {\"type\": \"Point\", \"coordinates\": [-106.95327, 38.89435, 10190.0]}}, {\"SWE\": 21.0, \"SWE_units\": \"in\", \"datasource\": \"NRCS\", \"Seasonal total streamflow (acre-feet)\": 236762.9568, \"type\": \"Feature\", \"geometry\": {\"type\": \"Point\", \"coordinates\": [-106.95327, 38.89435, 10190.0]}}, {\"SWE\": 19.1, \"SWE_units\": \"in\", \"datasource\": \"NRCS\", \"Seasonal total streamflow (acre-feet)\": 288948.816, \"type\": \"Feature\", \"geometry\": {\"type\": \"Point\", \"coordinates\": [-106.95327, 38.89435, 10190.0]}}, {\"SWE\": 12.2, \"SWE_units\": \"in\", \"datasource\": \"NRCS\", \"Seasonal total streamflow (acre-feet)\": 153918.576, \"type\": \"Feature\", \"geometry\": {\"type\": \"Point\", \"coordinates\": [-106.95327, 38.89435, 10190.0]}}, {\"SWE\": 10.2, \"SWE_units\": \"in\", \"datasource\": \"NRCS\", \"Seasonal total streamflow (acre-feet)\": 200737.008, \"type\": \"Feature\", \"geometry\": {\"type\": \"Point\", \"coordinates\": [-106.95327, 38.89435, 10190.0]}}, {\"SWE\": 13.0, \"SWE_units\": \"in\", \"datasource\": \"NRCS\", \"Seasonal total streamflow (acre-feet)\": 143599.0464, \"type\": \"Feature\", \"geometry\": {\"type\": \"Point\", \"coordinates\": [-106.95327, 38.89435, 10190.0]}}, {\"SWE\": 10.9, \"SWE_units\": \"in\", \"datasource\": \"NRCS\", \"Seasonal total streamflow (acre-feet)\": 138869.5104, \"type\": \"Feature\", \"geometry\": {\"type\": \"Point\", \"coordinates\": [-106.95327, 38.89435, 10190.0]}}, {\"SWE\": 9.8, \"SWE_units\": \"in\", \"datasource\": \"NRCS\", \"Seasonal total streamflow (acre-feet)\": 70821.42336, \"type\": \"Feature\", \"geometry\": {\"type\": \"Point\", \"coordinates\": [-106.95327, 38.89435, 10190.0]}}, {\"SWE\": 13.4, \"SWE_units\": \"in\", \"datasource\": \"NRCS\", \"Seasonal total streamflow (acre-feet)\": 157178.18016, \"type\": \"Feature\", \"geometry\": {\"type\": \"Point\", \"coordinates\": [-106.95327, 38.89435, 10190.0]}}, {\"SWE\": 11.2, \"SWE_units\": \"in\", \"datasource\": \"NRCS\", \"Seasonal total streamflow (acre-feet)\": 125839.44, \"type\": \"Feature\", \"geometry\": {\"type\": \"Point\", \"coordinates\": [-106.95327, 38.89435, 10190.0]}}, {\"SWE\": 17.9, \"SWE_units\": \"in\", \"datasource\": \"NRCS\", \"Seasonal total streamflow (acre-feet)\": 193059.65952, \"type\": \"Feature\", \"geometry\": {\"type\": \"Point\", \"coordinates\": [-106.95327, 38.89435, 10190.0]}}, {\"SWE\": 15.2, \"SWE_units\": \"in\", \"datasource\": \"NRCS\", \"Seasonal total streamflow (acre-feet)\": 178399.09152, \"type\": \"Feature\", \"geometry\": {\"type\": \"Point\", \"coordinates\": [-106.95327, 38.89435, 10190.0]}}, {\"SWE\": 11.1, \"SWE_units\": \"in\", \"datasource\": \"NRCS\", \"Seasonal total streamflow (acre-feet)\": 120273.2928, \"type\": \"Feature\", \"geometry\": {\"type\": \"Point\", \"coordinates\": [-106.95327, 38.89435, 10190.0]}}, {\"SWE\": 21.9, \"SWE_units\": \"in\", \"datasource\": \"NRCS\", \"Seasonal total streamflow (acre-feet)\": 254830.77792, \"type\": \"Feature\", \"geometry\": {\"type\": \"Point\", \"coordinates\": [-106.95327, 38.89435, 10190.0]}}, {\"SWE\": 16.8, \"SWE_units\": \"in\", \"datasource\": \"NRCS\", \"Seasonal total streamflow (acre-feet)\": 234487.21536, \"type\": \"Feature\", \"geometry\": {\"type\": \"Point\", \"coordinates\": [-106.95327, 38.89435, 10190.0]}}, {\"SWE\": 12.0, \"SWE_units\": \"in\", \"datasource\": \"NRCS\", \"Seasonal total streamflow (acre-feet)\": 165854.29536, \"type\": \"Feature\", \"geometry\": {\"type\": \"Point\", \"coordinates\": [-106.95327, 38.89435, 10190.0]}}, {\"SWE\": 17.0, \"SWE_units\": \"in\", \"datasource\": \"NRCS\", \"Seasonal total streamflow (acre-feet)\": 275356.16928, \"type\": \"Feature\", \"geometry\": {\"type\": \"Point\", \"coordinates\": [-106.95327, 38.89435, 10190.0]}}, {\"SWE\": 6.5, \"SWE_units\": \"in\", \"datasource\": \"NRCS\", \"Seasonal total streamflow (acre-feet)\": 66996.65952, \"type\": \"Feature\", \"geometry\": {\"type\": \"Point\", \"coordinates\": [-106.95327, 38.89435, 10190.0]}}, {\"SWE\": 8.8, \"SWE_units\": \"in\", \"datasource\": \"NRCS\", \"Seasonal total streamflow (acre-feet)\": 112420.27584, \"type\": \"Feature\", \"geometry\": {\"type\": \"Point\", \"coordinates\": [-106.95327, 38.89435, 10190.0]}}, {\"SWE\": 16.2, \"SWE_units\": \"in\", \"datasource\": \"NRCS\", \"Seasonal total streamflow (acre-feet)\": 226375.46496, \"type\": \"Feature\", \"geometry\": {\"type\": \"Point\", \"coordinates\": [-106.95327, 38.89435, 10190.0]}}, {\"SWE\": 11.1, \"SWE_units\": \"in\", \"datasource\": \"NRCS\", \"Seasonal total streamflow (acre-feet)\": 164703.1104, \"type\": \"Feature\", \"geometry\": {\"type\": \"Point\", \"coordinates\": [-106.95327, 38.89435, 10190.0]}}, {\"SWE\": 13.1, \"SWE_units\": \"in\", \"datasource\": \"NRCS\", \"Seasonal total streamflow (acre-feet)\": 150986.26368, \"type\": \"Feature\", \"geometry\": {\"type\": \"Point\", \"coordinates\": [-106.95327, 38.89435, 10190.0]}}, {\"SWE\": 21.0, \"SWE_units\": \"in\", \"datasource\": \"NRCS\", \"Seasonal total streamflow (acre-feet)\": 242269.488, \"type\": \"Feature\", \"geometry\": {\"type\": \"Point\", \"coordinates\": [-106.95327, 38.89435, 10190.0]}}, {\"SWE\": 8.8, \"SWE_units\": \"in\", \"datasource\": \"NRCS\", \"Seasonal total streamflow (acre-feet)\": 80087.53824, \"type\": \"Feature\", \"geometry\": {\"type\": \"Point\", \"coordinates\": [-106.95327, 38.89435, 10190.0]}}, {\"SWE\": 19.1, \"SWE_units\": \"in\", \"datasource\": \"NRCS\", \"Seasonal total streamflow (acre-feet)\": 249610.99968, \"type\": \"Feature\", \"geometry\": {\"type\": \"Point\", \"coordinates\": [-106.95327, 38.89435, 10190.0]}}, {\"SWE\": 13.6, \"SWE_units\": \"in\", \"datasource\": \"NRCS\", \"Seasonal total streamflow (acre-feet)\": 112156.77312, \"type\": \"Feature\", \"geometry\": {\"type\": \"Point\", \"coordinates\": [-106.95327, 38.89435, 10190.0]}}, {\"SWE\": 11.1, \"SWE_units\": \"in\", \"datasource\": \"NRCS\", \"Seasonal total streamflow (acre-feet)\": 79424.01216, \"type\": \"Feature\", \"geometry\": {\"type\": \"Point\", \"coordinates\": [-106.95327, 38.89435, 10190.0]}}, {\"SWE\": 12.8, \"SWE_units\": \"in\", \"datasource\": \"NRCS\", \"Seasonal total streamflow (acre-feet)\": 149954.112, \"type\": \"Feature\", \"geometry\": {\"type\": \"Point\", \"coordinates\": [-106.95327, 38.89435, 10190.0]}}, {\"SWE\": 20.8, \"SWE_units\": \"in\", \"datasource\": \"NRCS\", \"Seasonal total streamflow (acre-feet)\": 233700.28416, \"type\": \"Feature\", \"geometry\": {\"type\": \"Point\", \"coordinates\": [-106.95327, 38.89435, 10190.0]}}]}}, {\"mode\": \"vega-lite\"});\n",
       "</script>"
      ],
      "text/plain": [
       "alt.Chart(...)"
      ]
     },
     "execution_count": 42,
     "metadata": {},
     "output_type": "execute_result"
    }
   ],
   "source": [
    "alt.Chart(df_swe_and_streamflow).mark_point().encode(\n",
    "    alt.X('SWE:Q'),\n",
    "    alt.Y('Seasonal total streamflow (acre-feet):Q')\n",
    ")"
   ]
  },
  {
   "cell_type": "markdown",
   "metadata": {},
   "source": [
    "Fit a line to the columns 'SWE' 'Seasonal total streamflow (acre-feet)'"
   ]
  },
  {
   "cell_type": "code",
   "execution_count": 55,
   "metadata": {},
   "outputs": [],
   "source": [
    "(slope, intercept, r_value, p_value, std_err) = (\n",
    "    linregress(df_swe_and_streamflow['SWE'], df_swe_and_streamflow['Seasonal total streamflow (acre-feet)'])\n",
    ")"
   ]
  },
  {
   "cell_type": "code",
   "execution_count": 56,
   "metadata": {},
   "outputs": [],
   "source": [
    "fit_line_x_values = np.linspace(0, 22, 100)\n",
    "fit_lin_y_values = intercept + slope * fit_line_x_values\n",
    "fit_line_df = pd.DataFrame({\n",
    "    'x': fit_line_x_values,\n",
    "    'y': fit_lin_y_values,\n",
    "})"
   ]
  },
  {
   "cell_type": "code",
   "execution_count": 57,
   "metadata": {},
   "outputs": [
    {
     "data": {
      "text/html": [
       "\n",
       "<style>\n",
       "  #altair-viz-d957626d1a9a4af7a780a4c2d54c199f.vega-embed {\n",
       "    width: 100%;\n",
       "    display: flex;\n",
       "  }\n",
       "\n",
       "  #altair-viz-d957626d1a9a4af7a780a4c2d54c199f.vega-embed details,\n",
       "  #altair-viz-d957626d1a9a4af7a780a4c2d54c199f.vega-embed details summary {\n",
       "    position: relative;\n",
       "  }\n",
       "</style>\n",
       "<div id=\"altair-viz-d957626d1a9a4af7a780a4c2d54c199f\"></div>\n",
       "<script type=\"text/javascript\">\n",
       "  var VEGA_DEBUG = (typeof VEGA_DEBUG == \"undefined\") ? {} : VEGA_DEBUG;\n",
       "  (function(spec, embedOpt){\n",
       "    let outputDiv = document.currentScript.previousElementSibling;\n",
       "    if (outputDiv.id !== \"altair-viz-d957626d1a9a4af7a780a4c2d54c199f\") {\n",
       "      outputDiv = document.getElementById(\"altair-viz-d957626d1a9a4af7a780a4c2d54c199f\");\n",
       "    }\n",
       "\n",
       "    const paths = {\n",
       "      \"vega\": \"https://cdn.jsdelivr.net/npm/vega@5?noext\",\n",
       "      \"vega-lib\": \"https://cdn.jsdelivr.net/npm/vega-lib?noext\",\n",
       "      \"vega-lite\": \"https://cdn.jsdelivr.net/npm/vega-lite@5.20.1?noext\",\n",
       "      \"vega-embed\": \"https://cdn.jsdelivr.net/npm/vega-embed@6?noext\",\n",
       "    };\n",
       "\n",
       "    function maybeLoadScript(lib, version) {\n",
       "      var key = `${lib.replace(\"-\", \"\")}_version`;\n",
       "      return (VEGA_DEBUG[key] == version) ?\n",
       "        Promise.resolve(paths[lib]) :\n",
       "        new Promise(function(resolve, reject) {\n",
       "          var s = document.createElement('script');\n",
       "          document.getElementsByTagName(\"head\")[0].appendChild(s);\n",
       "          s.async = true;\n",
       "          s.onload = () => {\n",
       "            VEGA_DEBUG[key] = version;\n",
       "            return resolve(paths[lib]);\n",
       "          };\n",
       "          s.onerror = () => reject(`Error loading script: ${paths[lib]}`);\n",
       "          s.src = paths[lib];\n",
       "        });\n",
       "    }\n",
       "\n",
       "    function showError(err) {\n",
       "      outputDiv.innerHTML = `<div class=\"error\" style=\"color:red;\">${err}</div>`;\n",
       "      throw err;\n",
       "    }\n",
       "\n",
       "    function displayChart(vegaEmbed) {\n",
       "      vegaEmbed(outputDiv, spec, embedOpt)\n",
       "        .catch(err => showError(`Javascript Error: ${err.message}<br>This usually means there's a typo in your chart specification. See the javascript console for the full traceback.`));\n",
       "    }\n",
       "\n",
       "    if(typeof define === \"function\" && define.amd) {\n",
       "      requirejs.config({paths});\n",
       "      let deps = [\"vega-embed\"];\n",
       "      require(deps, displayChart, err => showError(`Error loading script: ${err.message}`));\n",
       "    } else {\n",
       "      maybeLoadScript(\"vega\", \"5\")\n",
       "        .then(() => maybeLoadScript(\"vega-lite\", \"5.20.1\"))\n",
       "        .then(() => maybeLoadScript(\"vega-embed\", \"6\"))\n",
       "        .catch(showError)\n",
       "        .then(() => displayChart(vegaEmbed));\n",
       "    }\n",
       "  })({\"config\": {\"view\": {\"continuousWidth\": 300, \"continuousHeight\": 300}}, \"layer\": [{\"data\": {\"name\": \"data-a07800b8b20a72984cb918f6c43d5755\"}, \"mark\": {\"type\": \"point\"}, \"encoding\": {\"x\": {\"field\": \"SWE\", \"type\": \"quantitative\"}, \"y\": {\"field\": \"Seasonal total streamflow (acre-feet)\", \"type\": \"quantitative\"}}}, {\"data\": {\"name\": \"data-3dad6119e1612cb0e9852e17a841ded3\"}, \"mark\": {\"type\": \"line\", \"color\": \"black\"}, \"encoding\": {\"x\": {\"field\": \"x\", \"title\": \"\", \"type\": \"quantitative\"}, \"y\": {\"field\": \"y\", \"title\": \"\", \"type\": \"quantitative\"}}}], \"$schema\": \"https://vega.github.io/schema/vega-lite/v5.20.1.json\", \"datasets\": {\"data-a07800b8b20a72984cb918f6c43d5755\": [{\"SWE\": 11.8, \"SWE_units\": \"in\", \"datasource\": \"NRCS\", \"Seasonal total streamflow (acre-feet)\": 160166.3328, \"type\": \"Feature\", \"geometry\": {\"type\": \"Point\", \"coordinates\": [-106.95327, 38.89435, 10190.0]}}, {\"SWE\": 20.6, \"SWE_units\": \"in\", \"datasource\": \"NRCS\", \"Seasonal total streamflow (acre-feet)\": 312791.2416, \"type\": \"Feature\", \"geometry\": {\"type\": \"Point\", \"coordinates\": [-106.95327, 38.89435, 10190.0]}}, {\"SWE\": 21.0, \"SWE_units\": \"in\", \"datasource\": \"NRCS\", \"Seasonal total streamflow (acre-feet)\": 236762.9568, \"type\": \"Feature\", \"geometry\": {\"type\": \"Point\", \"coordinates\": [-106.95327, 38.89435, 10190.0]}}, {\"SWE\": 19.1, \"SWE_units\": \"in\", \"datasource\": \"NRCS\", \"Seasonal total streamflow (acre-feet)\": 288948.816, \"type\": \"Feature\", \"geometry\": {\"type\": \"Point\", \"coordinates\": [-106.95327, 38.89435, 10190.0]}}, {\"SWE\": 12.2, \"SWE_units\": \"in\", \"datasource\": \"NRCS\", \"Seasonal total streamflow (acre-feet)\": 153918.576, \"type\": \"Feature\", \"geometry\": {\"type\": \"Point\", \"coordinates\": [-106.95327, 38.89435, 10190.0]}}, {\"SWE\": 10.2, \"SWE_units\": \"in\", \"datasource\": \"NRCS\", \"Seasonal total streamflow (acre-feet)\": 200737.008, \"type\": \"Feature\", \"geometry\": {\"type\": \"Point\", \"coordinates\": [-106.95327, 38.89435, 10190.0]}}, {\"SWE\": 13.0, \"SWE_units\": \"in\", \"datasource\": \"NRCS\", \"Seasonal total streamflow (acre-feet)\": 143599.0464, \"type\": \"Feature\", \"geometry\": {\"type\": \"Point\", \"coordinates\": [-106.95327, 38.89435, 10190.0]}}, {\"SWE\": 10.9, \"SWE_units\": \"in\", \"datasource\": \"NRCS\", \"Seasonal total streamflow (acre-feet)\": 138869.5104, \"type\": \"Feature\", \"geometry\": {\"type\": \"Point\", \"coordinates\": [-106.95327, 38.89435, 10190.0]}}, {\"SWE\": 9.8, \"SWE_units\": \"in\", \"datasource\": \"NRCS\", \"Seasonal total streamflow (acre-feet)\": 70821.42336, \"type\": \"Feature\", \"geometry\": {\"type\": \"Point\", \"coordinates\": [-106.95327, 38.89435, 10190.0]}}, {\"SWE\": 13.4, \"SWE_units\": \"in\", \"datasource\": \"NRCS\", \"Seasonal total streamflow (acre-feet)\": 157178.18016, \"type\": \"Feature\", \"geometry\": {\"type\": \"Point\", \"coordinates\": [-106.95327, 38.89435, 10190.0]}}, {\"SWE\": 11.2, \"SWE_units\": \"in\", \"datasource\": \"NRCS\", \"Seasonal total streamflow (acre-feet)\": 125839.44, \"type\": \"Feature\", \"geometry\": {\"type\": \"Point\", \"coordinates\": [-106.95327, 38.89435, 10190.0]}}, {\"SWE\": 17.9, \"SWE_units\": \"in\", \"datasource\": \"NRCS\", \"Seasonal total streamflow (acre-feet)\": 193059.65952, \"type\": \"Feature\", \"geometry\": {\"type\": \"Point\", \"coordinates\": [-106.95327, 38.89435, 10190.0]}}, {\"SWE\": 15.2, \"SWE_units\": \"in\", \"datasource\": \"NRCS\", \"Seasonal total streamflow (acre-feet)\": 178399.09152, \"type\": \"Feature\", \"geometry\": {\"type\": \"Point\", \"coordinates\": [-106.95327, 38.89435, 10190.0]}}, {\"SWE\": 11.1, \"SWE_units\": \"in\", \"datasource\": \"NRCS\", \"Seasonal total streamflow (acre-feet)\": 120273.2928, \"type\": \"Feature\", \"geometry\": {\"type\": \"Point\", \"coordinates\": [-106.95327, 38.89435, 10190.0]}}, {\"SWE\": 21.9, \"SWE_units\": \"in\", \"datasource\": \"NRCS\", \"Seasonal total streamflow (acre-feet)\": 254830.77792, \"type\": \"Feature\", \"geometry\": {\"type\": \"Point\", \"coordinates\": [-106.95327, 38.89435, 10190.0]}}, {\"SWE\": 16.8, \"SWE_units\": \"in\", \"datasource\": \"NRCS\", \"Seasonal total streamflow (acre-feet)\": 234487.21536, \"type\": \"Feature\", \"geometry\": {\"type\": \"Point\", \"coordinates\": [-106.95327, 38.89435, 10190.0]}}, {\"SWE\": 12.0, \"SWE_units\": \"in\", \"datasource\": \"NRCS\", \"Seasonal total streamflow (acre-feet)\": 165854.29536, \"type\": \"Feature\", \"geometry\": {\"type\": \"Point\", \"coordinates\": [-106.95327, 38.89435, 10190.0]}}, {\"SWE\": 17.0, \"SWE_units\": \"in\", \"datasource\": \"NRCS\", \"Seasonal total streamflow (acre-feet)\": 275356.16928, \"type\": \"Feature\", \"geometry\": {\"type\": \"Point\", \"coordinates\": [-106.95327, 38.89435, 10190.0]}}, {\"SWE\": 6.5, \"SWE_units\": \"in\", \"datasource\": \"NRCS\", \"Seasonal total streamflow (acre-feet)\": 66996.65952, \"type\": \"Feature\", \"geometry\": {\"type\": \"Point\", \"coordinates\": [-106.95327, 38.89435, 10190.0]}}, {\"SWE\": 8.8, \"SWE_units\": \"in\", \"datasource\": \"NRCS\", \"Seasonal total streamflow (acre-feet)\": 112420.27584, \"type\": \"Feature\", \"geometry\": {\"type\": \"Point\", \"coordinates\": [-106.95327, 38.89435, 10190.0]}}, {\"SWE\": 16.2, \"SWE_units\": \"in\", \"datasource\": \"NRCS\", \"Seasonal total streamflow (acre-feet)\": 226375.46496, \"type\": \"Feature\", \"geometry\": {\"type\": \"Point\", \"coordinates\": [-106.95327, 38.89435, 10190.0]}}, {\"SWE\": 11.1, \"SWE_units\": \"in\", \"datasource\": \"NRCS\", \"Seasonal total streamflow (acre-feet)\": 164703.1104, \"type\": \"Feature\", \"geometry\": {\"type\": \"Point\", \"coordinates\": [-106.95327, 38.89435, 10190.0]}}, {\"SWE\": 13.1, \"SWE_units\": \"in\", \"datasource\": \"NRCS\", \"Seasonal total streamflow (acre-feet)\": 150986.26368, \"type\": \"Feature\", \"geometry\": {\"type\": \"Point\", \"coordinates\": [-106.95327, 38.89435, 10190.0]}}, {\"SWE\": 21.0, \"SWE_units\": \"in\", \"datasource\": \"NRCS\", \"Seasonal total streamflow (acre-feet)\": 242269.488, \"type\": \"Feature\", \"geometry\": {\"type\": \"Point\", \"coordinates\": [-106.95327, 38.89435, 10190.0]}}, {\"SWE\": 8.8, \"SWE_units\": \"in\", \"datasource\": \"NRCS\", \"Seasonal total streamflow (acre-feet)\": 80087.53824, \"type\": \"Feature\", \"geometry\": {\"type\": \"Point\", \"coordinates\": [-106.95327, 38.89435, 10190.0]}}, {\"SWE\": 19.1, \"SWE_units\": \"in\", \"datasource\": \"NRCS\", \"Seasonal total streamflow (acre-feet)\": 249610.99968, \"type\": \"Feature\", \"geometry\": {\"type\": \"Point\", \"coordinates\": [-106.95327, 38.89435, 10190.0]}}, {\"SWE\": 13.6, \"SWE_units\": \"in\", \"datasource\": \"NRCS\", \"Seasonal total streamflow (acre-feet)\": 112156.77312, \"type\": \"Feature\", \"geometry\": {\"type\": \"Point\", \"coordinates\": [-106.95327, 38.89435, 10190.0]}}, {\"SWE\": 11.1, \"SWE_units\": \"in\", \"datasource\": \"NRCS\", \"Seasonal total streamflow (acre-feet)\": 79424.01216, \"type\": \"Feature\", \"geometry\": {\"type\": \"Point\", \"coordinates\": [-106.95327, 38.89435, 10190.0]}}, {\"SWE\": 12.8, \"SWE_units\": \"in\", \"datasource\": \"NRCS\", \"Seasonal total streamflow (acre-feet)\": 149954.112, \"type\": \"Feature\", \"geometry\": {\"type\": \"Point\", \"coordinates\": [-106.95327, 38.89435, 10190.0]}}, {\"SWE\": 20.8, \"SWE_units\": \"in\", \"datasource\": \"NRCS\", \"Seasonal total streamflow (acre-feet)\": 233700.28416, \"type\": \"Feature\", \"geometry\": {\"type\": \"Point\", \"coordinates\": [-106.95327, 38.89435, 10190.0]}}], \"data-3dad6119e1612cb0e9852e17a841ded3\": [{\"x\": 0.0, \"y\": -18209.91868862891}, {\"x\": 0.2222222222222222, \"y\": -15184.541961890143}, {\"x\": 0.4444444444444444, \"y\": -12159.165235151377}, {\"x\": 0.6666666666666666, \"y\": -9133.788508412608}, {\"x\": 0.8888888888888888, \"y\": -6108.411781673842}, {\"x\": 1.1111111111111112, \"y\": -3083.0350549350715}, {\"x\": 1.3333333333333333, \"y\": -57.658328196306684}, {\"x\": 1.5555555555555554, \"y\": 2967.71839854246}, {\"x\": 1.7777777777777777, \"y\": 5993.0951252812265}, {\"x\": 2.0, \"y\": 9018.471852019997}, {\"x\": 2.2222222222222223, \"y\": 12043.848578758767}, {\"x\": 2.444444444444444, \"y\": 15069.22530549753}, {\"x\": 2.6666666666666665, \"y\": 18094.602032236297}, {\"x\": 2.888888888888889, \"y\": 21119.978758975063}, {\"x\": 3.1111111111111107, \"y\": 24145.35548571383}, {\"x\": 3.333333333333333, \"y\": 27170.732212452596}, {\"x\": 3.5555555555555554, \"y\": 30196.108939191363}, {\"x\": 3.7777777777777777, \"y\": 33221.48566593014}, {\"x\": 4.0, \"y\": 36246.8623926689}, {\"x\": 4.222222222222222, \"y\": 39272.23911940767}, {\"x\": 4.444444444444445, \"y\": 42297.615846146444}, {\"x\": 4.666666666666666, \"y\": 45322.992572885196}, {\"x\": 4.888888888888888, \"y\": 48348.36929962397}, {\"x\": 5.111111111111111, \"y\": 51373.74602636273}, {\"x\": 5.333333333333333, \"y\": 54399.1227531015}, {\"x\": 5.555555555555555, \"y\": 57424.49947984028}, {\"x\": 5.777777777777778, \"y\": 60449.876206579036}, {\"x\": 6.0, \"y\": 63475.25293331781}, {\"x\": 6.222222222222221, \"y\": 66500.62966005657}, {\"x\": 6.444444444444444, \"y\": 69526.00638679533}, {\"x\": 6.666666666666666, \"y\": 72551.3831135341}, {\"x\": 6.888888888888888, \"y\": 75576.75984027288}, {\"x\": 7.111111111111111, \"y\": 78602.13656701164}, {\"x\": 7.333333333333333, \"y\": 81627.51329375041}, {\"x\": 7.555555555555555, \"y\": 84652.89002048918}, {\"x\": 7.777777777777778, \"y\": 87678.26674722794}, {\"x\": 8.0, \"y\": 90703.64347396672}, {\"x\": 8.222222222222221, \"y\": 93729.02020070548}, {\"x\": 8.444444444444445, \"y\": 96754.39692744425}, {\"x\": 8.666666666666666, \"y\": 99779.77365418301}, {\"x\": 8.88888888888889, \"y\": 102805.1503809218}, {\"x\": 9.11111111111111, \"y\": 105830.52710766054}, {\"x\": 9.333333333333332, \"y\": 108855.9038343993}, {\"x\": 9.555555555555555, \"y\": 111881.28056113809}, {\"x\": 9.777777777777777, \"y\": 114906.65728787685}, {\"x\": 10.0, \"y\": 117932.03401461561}, {\"x\": 10.222222222222221, \"y\": 120957.41074135437}, {\"x\": 10.444444444444445, \"y\": 123982.78746809316}, {\"x\": 10.666666666666666, \"y\": 127008.16419483192}, {\"x\": 10.888888888888888, \"y\": 130033.54092157067}, {\"x\": 11.11111111111111, \"y\": 133058.91764830946}, {\"x\": 11.333333333333332, \"y\": 136084.29437504822}, {\"x\": 11.555555555555555, \"y\": 139109.67110178698}, {\"x\": 11.777777777777777, \"y\": 142135.04782852574}, {\"x\": 12.0, \"y\": 145160.42455526453}, {\"x\": 12.222222222222221, \"y\": 148185.8012820033}, {\"x\": 12.444444444444443, \"y\": 151211.17800874205}, {\"x\": 12.666666666666666, \"y\": 154236.55473548084}, {\"x\": 12.888888888888888, \"y\": 157261.93146221957}, {\"x\": 13.11111111111111, \"y\": 160287.30818895836}, {\"x\": 13.333333333333332, \"y\": 163312.68491569711}, {\"x\": 13.555555555555555, \"y\": 166338.0616424359}, {\"x\": 13.777777777777777, \"y\": 169363.43836917466}, {\"x\": 14.0, \"y\": 172388.81509591345}, {\"x\": 14.222222222222221, \"y\": 175414.19182265218}, {\"x\": 14.444444444444443, \"y\": 178439.56854939094}, {\"x\": 14.666666666666666, \"y\": 181464.94527612973}, {\"x\": 14.888888888888888, \"y\": 184490.3220028685}, {\"x\": 15.11111111111111, \"y\": 187515.69872960728}, {\"x\": 15.333333333333332, \"y\": 190541.07545634604}, {\"x\": 15.555555555555555, \"y\": 193566.4521830848}, {\"x\": 15.777777777777777, \"y\": 196591.82890982355}, {\"x\": 16.0, \"y\": 199617.20563656234}, {\"x\": 16.22222222222222, \"y\": 202642.5823633011}, {\"x\": 16.444444444444443, \"y\": 205667.95909003986}, {\"x\": 16.666666666666664, \"y\": 208693.33581677862}, {\"x\": 16.88888888888889, \"y\": 211718.7125435174}, {\"x\": 17.11111111111111, \"y\": 214744.08927025617}, {\"x\": 17.333333333333332, \"y\": 217769.46599699493}, {\"x\": 17.555555555555554, \"y\": 220794.8427237337}, {\"x\": 17.77777777777778, \"y\": 223820.2194504725}, {\"x\": 18.0, \"y\": 226845.59617721124}, {\"x\": 18.22222222222222, \"y\": 229870.97290395}, {\"x\": 18.444444444444443, \"y\": 232896.34963068875}, {\"x\": 18.666666666666664, \"y\": 235921.7263574275}, {\"x\": 18.88888888888889, \"y\": 238947.10308416633}, {\"x\": 19.11111111111111, \"y\": 241972.4798109051}, {\"x\": 19.333333333333332, \"y\": 244997.85653764385}, {\"x\": 19.555555555555554, \"y\": 248023.2332643826}, {\"x\": 19.777777777777775, \"y\": 251048.60999112137}, {\"x\": 20.0, \"y\": 254073.98671786013}, {\"x\": 20.22222222222222, \"y\": 257099.3634445989}, {\"x\": 20.444444444444443, \"y\": 260124.74017133765}, {\"x\": 20.666666666666664, \"y\": 263150.1168980764}, {\"x\": 20.88888888888889, \"y\": 266175.49362481525}, {\"x\": 21.11111111111111, \"y\": 269200.870351554}, {\"x\": 21.333333333333332, \"y\": 272226.24707829277}, {\"x\": 21.555555555555554, \"y\": 275251.62380503153}, {\"x\": 21.777777777777775, \"y\": 278277.0005317703}, {\"x\": 22.0, \"y\": 281302.37725850905}]}}, {\"mode\": \"vega-lite\"});\n",
       "</script>"
      ],
      "text/plain": [
       "alt.LayerChart(...)"
      ]
     },
     "execution_count": 57,
     "metadata": {},
     "output_type": "execute_result"
    }
   ],
   "source": [
    "alt.Chart(df_swe_and_streamflow).mark_point().encode(\n",
    "    alt.X('SWE:Q'),\n",
    "    alt.Y('Seasonal total streamflow (acre-feet):Q')\n",
    ") + alt.Chart(fit_line_df).mark_line(color='black').encode(\n",
    "    alt.X('x:Q').title(''),\n",
    "    alt.Y('y:Q').title('')\n",
    ") "
   ]
  },
  {
   "cell_type": "markdown",
   "metadata": {},
   "source": [
    "Now pull in SWE data from the Kettle Ponds and see how the linear regression model works for that four SWE measurements from a single year."
   ]
  },
  {
   "cell_type": "code",
   "execution_count": 58,
   "metadata": {},
   "outputs": [],
   "source": [
    "sos_file = \"../data/sos_full_dataset_30min.nc\"\n",
    "sos_dataset = xr.open_dataset(sos_file)"
   ]
  },
  {
   "cell_type": "code",
   "execution_count": 80,
   "metadata": {},
   "outputs": [],
   "source": [
    "kps_swe_values = sos_dataset.sel(time = '20230401 0000')[['SWE_p1_c', 'SWE_p2_c', 'SWE_p3_c', 'SWE_p4_c']].to_array().values\n",
    "kps_swe_values = (kps_swe_values * units(\"mm\")).to(units(\"inches\")).magnitude"
   ]
  },
  {
   "cell_type": "code",
   "execution_count": 83,
   "metadata": {},
   "outputs": [],
   "source": [
    "streamflow_predictions_from_kps = kps_swe_values * slope + intercept\n",
    "\n",
    "streamflow_predictions_from_kps = pd.DataFrame({\n",
    "    'SWE': kps_swe_values,\n",
    "    'Seasonal total streamflow (acre-feet)': streamflow_predictions_from_kps,\n",
    "})"
   ]
  },
  {
   "cell_type": "code",
   "execution_count": 116,
   "metadata": {},
   "outputs": [
    {
     "data": {
      "text/html": [
       "\n",
       "<style>\n",
       "  #altair-viz-4b54d8557942421a89880dafbd440469.vega-embed {\n",
       "    width: 100%;\n",
       "    display: flex;\n",
       "  }\n",
       "\n",
       "  #altair-viz-4b54d8557942421a89880dafbd440469.vega-embed details,\n",
       "  #altair-viz-4b54d8557942421a89880dafbd440469.vega-embed details summary {\n",
       "    position: relative;\n",
       "  }\n",
       "</style>\n",
       "<div id=\"altair-viz-4b54d8557942421a89880dafbd440469\"></div>\n",
       "<script type=\"text/javascript\">\n",
       "  var VEGA_DEBUG = (typeof VEGA_DEBUG == \"undefined\") ? {} : VEGA_DEBUG;\n",
       "  (function(spec, embedOpt){\n",
       "    let outputDiv = document.currentScript.previousElementSibling;\n",
       "    if (outputDiv.id !== \"altair-viz-4b54d8557942421a89880dafbd440469\") {\n",
       "      outputDiv = document.getElementById(\"altair-viz-4b54d8557942421a89880dafbd440469\");\n",
       "    }\n",
       "\n",
       "    const paths = {\n",
       "      \"vega\": \"https://cdn.jsdelivr.net/npm/vega@5?noext\",\n",
       "      \"vega-lib\": \"https://cdn.jsdelivr.net/npm/vega-lib?noext\",\n",
       "      \"vega-lite\": \"https://cdn.jsdelivr.net/npm/vega-lite@5.20.1?noext\",\n",
       "      \"vega-embed\": \"https://cdn.jsdelivr.net/npm/vega-embed@6?noext\",\n",
       "    };\n",
       "\n",
       "    function maybeLoadScript(lib, version) {\n",
       "      var key = `${lib.replace(\"-\", \"\")}_version`;\n",
       "      return (VEGA_DEBUG[key] == version) ?\n",
       "        Promise.resolve(paths[lib]) :\n",
       "        new Promise(function(resolve, reject) {\n",
       "          var s = document.createElement('script');\n",
       "          document.getElementsByTagName(\"head\")[0].appendChild(s);\n",
       "          s.async = true;\n",
       "          s.onload = () => {\n",
       "            VEGA_DEBUG[key] = version;\n",
       "            return resolve(paths[lib]);\n",
       "          };\n",
       "          s.onerror = () => reject(`Error loading script: ${paths[lib]}`);\n",
       "          s.src = paths[lib];\n",
       "        });\n",
       "    }\n",
       "\n",
       "    function showError(err) {\n",
       "      outputDiv.innerHTML = `<div class=\"error\" style=\"color:red;\">${err}</div>`;\n",
       "      throw err;\n",
       "    }\n",
       "\n",
       "    function displayChart(vegaEmbed) {\n",
       "      vegaEmbed(outputDiv, spec, embedOpt)\n",
       "        .catch(err => showError(`Javascript Error: ${err.message}<br>This usually means there's a typo in your chart specification. See the javascript console for the full traceback.`));\n",
       "    }\n",
       "\n",
       "    if(typeof define === \"function\" && define.amd) {\n",
       "      requirejs.config({paths});\n",
       "      let deps = [\"vega-embed\"];\n",
       "      require(deps, displayChart, err => showError(`Error loading script: ${err.message}`));\n",
       "    } else {\n",
       "      maybeLoadScript(\"vega\", \"5\")\n",
       "        .then(() => maybeLoadScript(\"vega-lite\", \"5.20.1\"))\n",
       "        .then(() => maybeLoadScript(\"vega-embed\", \"6\"))\n",
       "        .catch(showError)\n",
       "        .then(() => displayChart(vegaEmbed));\n",
       "    }\n",
       "  })({\"config\": {\"view\": {\"continuousWidth\": 300, \"continuousHeight\": 300}, \"legend\": {\"labelLimit\": 300}}, \"layer\": [{\"data\": {\"name\": \"data-dedde2767def00a9f54d7f3b543d817b\"}, \"mark\": {\"type\": \"point\"}, \"encoding\": {\"color\": {\"field\": \"label\", \"type\": \"nominal\"}, \"x\": {\"field\": \"SWE\", \"type\": \"quantitative\"}, \"y\": {\"field\": \"Seasonal total streamflow (acre-feet)\", \"type\": \"quantitative\"}}}, {\"data\": {\"name\": \"data-3eb59daa41dab09872bd7a3608e53a0b\"}, \"mark\": {\"type\": \"point\", \"shape\": \"square\", \"size\": 200}, \"encoding\": {\"color\": {\"field\": \"label\", \"scale\": {\"range\": [\"purple\"]}, \"title\": \"\", \"type\": \"nominal\"}, \"x\": {\"field\": \"SWE\", \"type\": \"quantitative\"}, \"y\": {\"field\": \"Seasonal total streamflow (acre-feet)\", \"type\": \"quantitative\"}}}, {\"data\": {\"name\": \"data-5f59138c89a134230838cfade8ad1d50\"}, \"mark\": {\"type\": \"line\", \"color\": \"black\"}, \"encoding\": {\"color\": {\"field\": \"label\", \"scale\": {\"range\": [\"black\"]}, \"title\": \"\", \"type\": \"nominal\"}, \"x\": {\"field\": \"x\", \"title\": \"\", \"type\": \"quantitative\"}, \"y\": {\"field\": \"y\", \"title\": \"\", \"type\": \"quantitative\"}}}, {\"data\": {\"name\": \"data-e9ef7a09e492190e839d28678944eca6\"}, \"mark\": {\"type\": \"point\"}, \"encoding\": {\"color\": {\"field\": \"label\", \"scale\": {\"range\": [\"red\"]}, \"title\": \"\", \"type\": \"nominal\"}, \"x\": {\"field\": \"SWE\", \"type\": \"quantitative\"}, \"y\": {\"field\": \"Seasonal total streamflow (acre-feet)\", \"type\": \"quantitative\"}}}], \"resolve\": {\"scale\": {\"color\": \"independent\"}}, \"$schema\": \"https://vega.github.io/schema/vega-lite/v5.20.1.json\", \"datasets\": {\"data-dedde2767def00a9f54d7f3b543d817b\": [{\"SWE\": 11.8, \"SWE_units\": \"in\", \"datasource\": \"NRCS\", \"Seasonal total streamflow (acre-feet)\": 160166.3328, \"label\": \"Measured SWE (SNOTEL) and Streamflow\", \"type\": \"Feature\", \"geometry\": {\"type\": \"Point\", \"coordinates\": [-106.95327, 38.89435, 10190.0]}}, {\"SWE\": 20.6, \"SWE_units\": \"in\", \"datasource\": \"NRCS\", \"Seasonal total streamflow (acre-feet)\": 312791.2416, \"label\": \"Measured SWE (SNOTEL) and Streamflow\", \"type\": \"Feature\", \"geometry\": {\"type\": \"Point\", \"coordinates\": [-106.95327, 38.89435, 10190.0]}}, {\"SWE\": 21.0, \"SWE_units\": \"in\", \"datasource\": \"NRCS\", \"Seasonal total streamflow (acre-feet)\": 236762.9568, \"label\": \"Measured SWE (SNOTEL) and Streamflow\", \"type\": \"Feature\", \"geometry\": {\"type\": \"Point\", \"coordinates\": [-106.95327, 38.89435, 10190.0]}}, {\"SWE\": 19.1, \"SWE_units\": \"in\", \"datasource\": \"NRCS\", \"Seasonal total streamflow (acre-feet)\": 288948.816, \"label\": \"Measured SWE (SNOTEL) and Streamflow\", \"type\": \"Feature\", \"geometry\": {\"type\": \"Point\", \"coordinates\": [-106.95327, 38.89435, 10190.0]}}, {\"SWE\": 12.2, \"SWE_units\": \"in\", \"datasource\": \"NRCS\", \"Seasonal total streamflow (acre-feet)\": 153918.576, \"label\": \"Measured SWE (SNOTEL) and Streamflow\", \"type\": \"Feature\", \"geometry\": {\"type\": \"Point\", \"coordinates\": [-106.95327, 38.89435, 10190.0]}}, {\"SWE\": 10.2, \"SWE_units\": \"in\", \"datasource\": \"NRCS\", \"Seasonal total streamflow (acre-feet)\": 200737.008, \"label\": \"Measured SWE (SNOTEL) and Streamflow\", \"type\": \"Feature\", \"geometry\": {\"type\": \"Point\", \"coordinates\": [-106.95327, 38.89435, 10190.0]}}, {\"SWE\": 13.0, \"SWE_units\": \"in\", \"datasource\": \"NRCS\", \"Seasonal total streamflow (acre-feet)\": 143599.0464, \"label\": \"Measured SWE (SNOTEL) and Streamflow\", \"type\": \"Feature\", \"geometry\": {\"type\": \"Point\", \"coordinates\": [-106.95327, 38.89435, 10190.0]}}, {\"SWE\": 10.9, \"SWE_units\": \"in\", \"datasource\": \"NRCS\", \"Seasonal total streamflow (acre-feet)\": 138869.5104, \"label\": \"Measured SWE (SNOTEL) and Streamflow\", \"type\": \"Feature\", \"geometry\": {\"type\": \"Point\", \"coordinates\": [-106.95327, 38.89435, 10190.0]}}, {\"SWE\": 9.8, \"SWE_units\": \"in\", \"datasource\": \"NRCS\", \"Seasonal total streamflow (acre-feet)\": 70821.42336, \"label\": \"Measured SWE (SNOTEL) and Streamflow\", \"type\": \"Feature\", \"geometry\": {\"type\": \"Point\", \"coordinates\": [-106.95327, 38.89435, 10190.0]}}, {\"SWE\": 13.4, \"SWE_units\": \"in\", \"datasource\": \"NRCS\", \"Seasonal total streamflow (acre-feet)\": 157178.18016, \"label\": \"Measured SWE (SNOTEL) and Streamflow\", \"type\": \"Feature\", \"geometry\": {\"type\": \"Point\", \"coordinates\": [-106.95327, 38.89435, 10190.0]}}, {\"SWE\": 11.2, \"SWE_units\": \"in\", \"datasource\": \"NRCS\", \"Seasonal total streamflow (acre-feet)\": 125839.44, \"label\": \"Measured SWE (SNOTEL) and Streamflow\", \"type\": \"Feature\", \"geometry\": {\"type\": \"Point\", \"coordinates\": [-106.95327, 38.89435, 10190.0]}}, {\"SWE\": 17.9, \"SWE_units\": \"in\", \"datasource\": \"NRCS\", \"Seasonal total streamflow (acre-feet)\": 193059.65952, \"label\": \"Measured SWE (SNOTEL) and Streamflow\", \"type\": \"Feature\", \"geometry\": {\"type\": \"Point\", \"coordinates\": [-106.95327, 38.89435, 10190.0]}}, {\"SWE\": 15.2, \"SWE_units\": \"in\", \"datasource\": \"NRCS\", \"Seasonal total streamflow (acre-feet)\": 178399.09152, \"label\": \"Measured SWE (SNOTEL) and Streamflow\", \"type\": \"Feature\", \"geometry\": {\"type\": \"Point\", \"coordinates\": [-106.95327, 38.89435, 10190.0]}}, {\"SWE\": 11.1, \"SWE_units\": \"in\", \"datasource\": \"NRCS\", \"Seasonal total streamflow (acre-feet)\": 120273.2928, \"label\": \"Measured SWE (SNOTEL) and Streamflow\", \"type\": \"Feature\", \"geometry\": {\"type\": \"Point\", \"coordinates\": [-106.95327, 38.89435, 10190.0]}}, {\"SWE\": 21.9, \"SWE_units\": \"in\", \"datasource\": \"NRCS\", \"Seasonal total streamflow (acre-feet)\": 254830.77792, \"label\": \"Measured SWE (SNOTEL) and Streamflow\", \"type\": \"Feature\", \"geometry\": {\"type\": \"Point\", \"coordinates\": [-106.95327, 38.89435, 10190.0]}}, {\"SWE\": 16.8, \"SWE_units\": \"in\", \"datasource\": \"NRCS\", \"Seasonal total streamflow (acre-feet)\": 234487.21536, \"label\": \"Measured SWE (SNOTEL) and Streamflow\", \"type\": \"Feature\", \"geometry\": {\"type\": \"Point\", \"coordinates\": [-106.95327, 38.89435, 10190.0]}}, {\"SWE\": 12.0, \"SWE_units\": \"in\", \"datasource\": \"NRCS\", \"Seasonal total streamflow (acre-feet)\": 165854.29536, \"label\": \"Measured SWE (SNOTEL) and Streamflow\", \"type\": \"Feature\", \"geometry\": {\"type\": \"Point\", \"coordinates\": [-106.95327, 38.89435, 10190.0]}}, {\"SWE\": 17.0, \"SWE_units\": \"in\", \"datasource\": \"NRCS\", \"Seasonal total streamflow (acre-feet)\": 275356.16928, \"label\": \"Measured SWE (SNOTEL) and Streamflow\", \"type\": \"Feature\", \"geometry\": {\"type\": \"Point\", \"coordinates\": [-106.95327, 38.89435, 10190.0]}}, {\"SWE\": 6.5, \"SWE_units\": \"in\", \"datasource\": \"NRCS\", \"Seasonal total streamflow (acre-feet)\": 66996.65952, \"label\": \"Measured SWE (SNOTEL) and Streamflow\", \"type\": \"Feature\", \"geometry\": {\"type\": \"Point\", \"coordinates\": [-106.95327, 38.89435, 10190.0]}}, {\"SWE\": 8.8, \"SWE_units\": \"in\", \"datasource\": \"NRCS\", \"Seasonal total streamflow (acre-feet)\": 112420.27584, \"label\": \"Measured SWE (SNOTEL) and Streamflow\", \"type\": \"Feature\", \"geometry\": {\"type\": \"Point\", \"coordinates\": [-106.95327, 38.89435, 10190.0]}}, {\"SWE\": 16.2, \"SWE_units\": \"in\", \"datasource\": \"NRCS\", \"Seasonal total streamflow (acre-feet)\": 226375.46496, \"label\": \"Measured SWE (SNOTEL) and Streamflow\", \"type\": \"Feature\", \"geometry\": {\"type\": \"Point\", \"coordinates\": [-106.95327, 38.89435, 10190.0]}}, {\"SWE\": 11.1, \"SWE_units\": \"in\", \"datasource\": \"NRCS\", \"Seasonal total streamflow (acre-feet)\": 164703.1104, \"label\": \"Measured SWE (SNOTEL) and Streamflow\", \"type\": \"Feature\", \"geometry\": {\"type\": \"Point\", \"coordinates\": [-106.95327, 38.89435, 10190.0]}}, {\"SWE\": 13.1, \"SWE_units\": \"in\", \"datasource\": \"NRCS\", \"Seasonal total streamflow (acre-feet)\": 150986.26368, \"label\": \"Measured SWE (SNOTEL) and Streamflow\", \"type\": \"Feature\", \"geometry\": {\"type\": \"Point\", \"coordinates\": [-106.95327, 38.89435, 10190.0]}}, {\"SWE\": 21.0, \"SWE_units\": \"in\", \"datasource\": \"NRCS\", \"Seasonal total streamflow (acre-feet)\": 242269.488, \"label\": \"Measured SWE (SNOTEL) and Streamflow\", \"type\": \"Feature\", \"geometry\": {\"type\": \"Point\", \"coordinates\": [-106.95327, 38.89435, 10190.0]}}, {\"SWE\": 8.8, \"SWE_units\": \"in\", \"datasource\": \"NRCS\", \"Seasonal total streamflow (acre-feet)\": 80087.53824, \"label\": \"Measured SWE (SNOTEL) and Streamflow\", \"type\": \"Feature\", \"geometry\": {\"type\": \"Point\", \"coordinates\": [-106.95327, 38.89435, 10190.0]}}, {\"SWE\": 19.1, \"SWE_units\": \"in\", \"datasource\": \"NRCS\", \"Seasonal total streamflow (acre-feet)\": 249610.99968, \"label\": \"Measured SWE (SNOTEL) and Streamflow\", \"type\": \"Feature\", \"geometry\": {\"type\": \"Point\", \"coordinates\": [-106.95327, 38.89435, 10190.0]}}, {\"SWE\": 13.6, \"SWE_units\": \"in\", \"datasource\": \"NRCS\", \"Seasonal total streamflow (acre-feet)\": 112156.77312, \"label\": \"Measured SWE (SNOTEL) and Streamflow\", \"type\": \"Feature\", \"geometry\": {\"type\": \"Point\", \"coordinates\": [-106.95327, 38.89435, 10190.0]}}, {\"SWE\": 11.1, \"SWE_units\": \"in\", \"datasource\": \"NRCS\", \"Seasonal total streamflow (acre-feet)\": 79424.01216, \"label\": \"Measured SWE (SNOTEL) and Streamflow\", \"type\": \"Feature\", \"geometry\": {\"type\": \"Point\", \"coordinates\": [-106.95327, 38.89435, 10190.0]}}, {\"SWE\": 12.8, \"SWE_units\": \"in\", \"datasource\": \"NRCS\", \"Seasonal total streamflow (acre-feet)\": 149954.112, \"label\": \"Measured SWE (SNOTEL) and Streamflow\", \"type\": \"Feature\", \"geometry\": {\"type\": \"Point\", \"coordinates\": [-106.95327, 38.89435, 10190.0]}}, {\"SWE\": 20.8, \"SWE_units\": \"in\", \"datasource\": \"NRCS\", \"Seasonal total streamflow (acre-feet)\": 233700.28416, \"label\": \"Measured SWE (SNOTEL) and Streamflow\", \"type\": \"Feature\", \"geometry\": {\"type\": \"Point\", \"coordinates\": [-106.95327, 38.89435, 10190.0]}}], \"data-3eb59daa41dab09872bd7a3608e53a0b\": [{\"SWE\": 20.8, \"SWE_units\": \"in\", \"datasource\": \"NRCS\", \"Seasonal total streamflow (acre-feet)\": 233700.28416, \"label\": \"Measured SWE (SNOTEL) and Streamflow, 2023\", \"type\": \"Feature\", \"geometry\": {\"type\": \"Point\", \"coordinates\": [-106.95327, 38.89435, 10190.0]}}], \"data-5f59138c89a134230838cfade8ad1d50\": [{\"x\": 0.0, \"y\": -18209.91868862891, \"label\": \"Regression line\"}, {\"x\": 0.2222222222222222, \"y\": -15184.541961890143, \"label\": \"Regression line\"}, {\"x\": 0.4444444444444444, \"y\": -12159.165235151377, \"label\": \"Regression line\"}, {\"x\": 0.6666666666666666, \"y\": -9133.788508412608, \"label\": \"Regression line\"}, {\"x\": 0.8888888888888888, \"y\": -6108.411781673842, \"label\": \"Regression line\"}, {\"x\": 1.1111111111111112, \"y\": -3083.0350549350715, \"label\": \"Regression line\"}, {\"x\": 1.3333333333333333, \"y\": -57.658328196306684, \"label\": \"Regression line\"}, {\"x\": 1.5555555555555554, \"y\": 2967.71839854246, \"label\": \"Regression line\"}, {\"x\": 1.7777777777777777, \"y\": 5993.0951252812265, \"label\": \"Regression line\"}, {\"x\": 2.0, \"y\": 9018.471852019997, \"label\": \"Regression line\"}, {\"x\": 2.2222222222222223, \"y\": 12043.848578758767, \"label\": \"Regression line\"}, {\"x\": 2.444444444444444, \"y\": 15069.22530549753, \"label\": \"Regression line\"}, {\"x\": 2.6666666666666665, \"y\": 18094.602032236297, \"label\": \"Regression line\"}, {\"x\": 2.888888888888889, \"y\": 21119.978758975063, \"label\": \"Regression line\"}, {\"x\": 3.1111111111111107, \"y\": 24145.35548571383, \"label\": \"Regression line\"}, {\"x\": 3.333333333333333, \"y\": 27170.732212452596, \"label\": \"Regression line\"}, {\"x\": 3.5555555555555554, \"y\": 30196.108939191363, \"label\": \"Regression line\"}, {\"x\": 3.7777777777777777, \"y\": 33221.48566593014, \"label\": \"Regression line\"}, {\"x\": 4.0, \"y\": 36246.8623926689, \"label\": \"Regression line\"}, {\"x\": 4.222222222222222, \"y\": 39272.23911940767, \"label\": \"Regression line\"}, {\"x\": 4.444444444444445, \"y\": 42297.615846146444, \"label\": \"Regression line\"}, {\"x\": 4.666666666666666, \"y\": 45322.992572885196, \"label\": \"Regression line\"}, {\"x\": 4.888888888888888, \"y\": 48348.36929962397, \"label\": \"Regression line\"}, {\"x\": 5.111111111111111, \"y\": 51373.74602636273, \"label\": \"Regression line\"}, {\"x\": 5.333333333333333, \"y\": 54399.1227531015, \"label\": \"Regression line\"}, {\"x\": 5.555555555555555, \"y\": 57424.49947984028, \"label\": \"Regression line\"}, {\"x\": 5.777777777777778, \"y\": 60449.876206579036, \"label\": \"Regression line\"}, {\"x\": 6.0, \"y\": 63475.25293331781, \"label\": \"Regression line\"}, {\"x\": 6.222222222222221, \"y\": 66500.62966005657, \"label\": \"Regression line\"}, {\"x\": 6.444444444444444, \"y\": 69526.00638679533, \"label\": \"Regression line\"}, {\"x\": 6.666666666666666, \"y\": 72551.3831135341, \"label\": \"Regression line\"}, {\"x\": 6.888888888888888, \"y\": 75576.75984027288, \"label\": \"Regression line\"}, {\"x\": 7.111111111111111, \"y\": 78602.13656701164, \"label\": \"Regression line\"}, {\"x\": 7.333333333333333, \"y\": 81627.51329375041, \"label\": \"Regression line\"}, {\"x\": 7.555555555555555, \"y\": 84652.89002048918, \"label\": \"Regression line\"}, {\"x\": 7.777777777777778, \"y\": 87678.26674722794, \"label\": \"Regression line\"}, {\"x\": 8.0, \"y\": 90703.64347396672, \"label\": \"Regression line\"}, {\"x\": 8.222222222222221, \"y\": 93729.02020070548, \"label\": \"Regression line\"}, {\"x\": 8.444444444444445, \"y\": 96754.39692744425, \"label\": \"Regression line\"}, {\"x\": 8.666666666666666, \"y\": 99779.77365418301, \"label\": \"Regression line\"}, {\"x\": 8.88888888888889, \"y\": 102805.1503809218, \"label\": \"Regression line\"}, {\"x\": 9.11111111111111, \"y\": 105830.52710766054, \"label\": \"Regression line\"}, {\"x\": 9.333333333333332, \"y\": 108855.9038343993, \"label\": \"Regression line\"}, {\"x\": 9.555555555555555, \"y\": 111881.28056113809, \"label\": \"Regression line\"}, {\"x\": 9.777777777777777, \"y\": 114906.65728787685, \"label\": \"Regression line\"}, {\"x\": 10.0, \"y\": 117932.03401461561, \"label\": \"Regression line\"}, {\"x\": 10.222222222222221, \"y\": 120957.41074135437, \"label\": \"Regression line\"}, {\"x\": 10.444444444444445, \"y\": 123982.78746809316, \"label\": \"Regression line\"}, {\"x\": 10.666666666666666, \"y\": 127008.16419483192, \"label\": \"Regression line\"}, {\"x\": 10.888888888888888, \"y\": 130033.54092157067, \"label\": \"Regression line\"}, {\"x\": 11.11111111111111, \"y\": 133058.91764830946, \"label\": \"Regression line\"}, {\"x\": 11.333333333333332, \"y\": 136084.29437504822, \"label\": \"Regression line\"}, {\"x\": 11.555555555555555, \"y\": 139109.67110178698, \"label\": \"Regression line\"}, {\"x\": 11.777777777777777, \"y\": 142135.04782852574, \"label\": \"Regression line\"}, {\"x\": 12.0, \"y\": 145160.42455526453, \"label\": \"Regression line\"}, {\"x\": 12.222222222222221, \"y\": 148185.8012820033, \"label\": \"Regression line\"}, {\"x\": 12.444444444444443, \"y\": 151211.17800874205, \"label\": \"Regression line\"}, {\"x\": 12.666666666666666, \"y\": 154236.55473548084, \"label\": \"Regression line\"}, {\"x\": 12.888888888888888, \"y\": 157261.93146221957, \"label\": \"Regression line\"}, {\"x\": 13.11111111111111, \"y\": 160287.30818895836, \"label\": \"Regression line\"}, {\"x\": 13.333333333333332, \"y\": 163312.68491569711, \"label\": \"Regression line\"}, {\"x\": 13.555555555555555, \"y\": 166338.0616424359, \"label\": \"Regression line\"}, {\"x\": 13.777777777777777, \"y\": 169363.43836917466, \"label\": \"Regression line\"}, {\"x\": 14.0, \"y\": 172388.81509591345, \"label\": \"Regression line\"}, {\"x\": 14.222222222222221, \"y\": 175414.19182265218, \"label\": \"Regression line\"}, {\"x\": 14.444444444444443, \"y\": 178439.56854939094, \"label\": \"Regression line\"}, {\"x\": 14.666666666666666, \"y\": 181464.94527612973, \"label\": \"Regression line\"}, {\"x\": 14.888888888888888, \"y\": 184490.3220028685, \"label\": \"Regression line\"}, {\"x\": 15.11111111111111, \"y\": 187515.69872960728, \"label\": \"Regression line\"}, {\"x\": 15.333333333333332, \"y\": 190541.07545634604, \"label\": \"Regression line\"}, {\"x\": 15.555555555555555, \"y\": 193566.4521830848, \"label\": \"Regression line\"}, {\"x\": 15.777777777777777, \"y\": 196591.82890982355, \"label\": \"Regression line\"}, {\"x\": 16.0, \"y\": 199617.20563656234, \"label\": \"Regression line\"}, {\"x\": 16.22222222222222, \"y\": 202642.5823633011, \"label\": \"Regression line\"}, {\"x\": 16.444444444444443, \"y\": 205667.95909003986, \"label\": \"Regression line\"}, {\"x\": 16.666666666666664, \"y\": 208693.33581677862, \"label\": \"Regression line\"}, {\"x\": 16.88888888888889, \"y\": 211718.7125435174, \"label\": \"Regression line\"}, {\"x\": 17.11111111111111, \"y\": 214744.08927025617, \"label\": \"Regression line\"}, {\"x\": 17.333333333333332, \"y\": 217769.46599699493, \"label\": \"Regression line\"}, {\"x\": 17.555555555555554, \"y\": 220794.8427237337, \"label\": \"Regression line\"}, {\"x\": 17.77777777777778, \"y\": 223820.2194504725, \"label\": \"Regression line\"}, {\"x\": 18.0, \"y\": 226845.59617721124, \"label\": \"Regression line\"}, {\"x\": 18.22222222222222, \"y\": 229870.97290395, \"label\": \"Regression line\"}, {\"x\": 18.444444444444443, \"y\": 232896.34963068875, \"label\": \"Regression line\"}, {\"x\": 18.666666666666664, \"y\": 235921.7263574275, \"label\": \"Regression line\"}, {\"x\": 18.88888888888889, \"y\": 238947.10308416633, \"label\": \"Regression line\"}, {\"x\": 19.11111111111111, \"y\": 241972.4798109051, \"label\": \"Regression line\"}, {\"x\": 19.333333333333332, \"y\": 244997.85653764385, \"label\": \"Regression line\"}, {\"x\": 19.555555555555554, \"y\": 248023.2332643826, \"label\": \"Regression line\"}, {\"x\": 19.777777777777775, \"y\": 251048.60999112137, \"label\": \"Regression line\"}, {\"x\": 20.0, \"y\": 254073.98671786013, \"label\": \"Regression line\"}, {\"x\": 20.22222222222222, \"y\": 257099.3634445989, \"label\": \"Regression line\"}, {\"x\": 20.444444444444443, \"y\": 260124.74017133765, \"label\": \"Regression line\"}, {\"x\": 20.666666666666664, \"y\": 263150.1168980764, \"label\": \"Regression line\"}, {\"x\": 20.88888888888889, \"y\": 266175.49362481525, \"label\": \"Regression line\"}, {\"x\": 21.11111111111111, \"y\": 269200.870351554, \"label\": \"Regression line\"}, {\"x\": 21.333333333333332, \"y\": 272226.24707829277, \"label\": \"Regression line\"}, {\"x\": 21.555555555555554, \"y\": 275251.62380503153, \"label\": \"Regression line\"}, {\"x\": 21.777777777777775, \"y\": 278277.0005317703, \"label\": \"Regression line\"}, {\"x\": 22.0, \"y\": 281302.37725850905, \"label\": \"Regression line\"}], \"data-e9ef7a09e492190e839d28678944eca6\": [{\"SWE\": 20.097333908081055, \"Seasonal total streamflow (acre-feet)\": 255399.109375, \"label\": \"Measured SWE at Kettle Ponds, Predicted Streamflow\"}, {\"SWE\": 16.632539749145508, \"Seasonal total streamflow (acre-feet)\": 208228.71875, \"label\": \"Measured SWE at Kettle Ponds, Predicted Streamflow\"}, {\"SWE\": 16.935474395751953, \"Seasonal total streamflow (acre-feet)\": 212352.9375, \"label\": \"Measured SWE at Kettle Ponds, Predicted Streamflow\"}, {\"SWE\": 19.34203338623047, \"Seasonal total streamflow (acre-feet)\": 245116.296875, \"label\": \"Measured SWE at Kettle Ponds, Predicted Streamflow\"}]}}, {\"mode\": \"vega-lite\"});\n",
       "</script>"
      ],
      "text/plain": [
       "alt.LayerChart(...)"
      ]
     },
     "execution_count": 116,
     "metadata": {},
     "output_type": "execute_result"
    }
   ],
   "source": [
    "(alt.Chart(\n",
    "    df_swe_and_streamflow.assign(label = 'Measured SWE (SNOTEL) and Streamflow')\n",
    ").mark_point().encode(\n",
    "    alt.X('SWE:Q'),\n",
    "    alt.Y('Seasonal total streamflow (acre-feet):Q'),\n",
    "    alt.Color('label:N')\n",
    ") + alt.Chart(\n",
    "    df_swe_and_streamflow.loc[2023:2023].assign(label = 'Measured SWE (SNOTEL) and Streamflow, 2023')\n",
    ").mark_point(size=200, shape='square').encode(\n",
    "    alt.X('SWE:Q'),\n",
    "    alt.Y('Seasonal total streamflow (acre-feet):Q'),\n",
    "    alt.Color('label:N').scale(range=['purple']).title('')\n",
    ") + alt.Chart(\n",
    "    fit_line_df.assign(label = 'Regression line')\n",
    ").mark_line(color='black').encode(\n",
    "    alt.X('x:Q').title(''),\n",
    "    alt.Y('y:Q').title(''),\n",
    "    alt.Color('label:N').scale(range=['black']).title('')\n",
    ") + alt.Chart(\n",
    "    streamflow_predictions_from_kps.assign(label = 'Measured SWE at Kettle Ponds, Predicted Streamflow')\n",
    ").mark_point().encode(\n",
    "    alt.X('SWE:Q'),\n",
    "    alt.Y('Seasonal total streamflow (acre-feet):Q'),\n",
    "    alt.Color('label:N').scale(range=['red']).title('')\n",
    ")).resolve_scale(color='independent').configure_legend(labelLimit=300)"
   ]
  }
 ],
 "metadata": {
  "kernelspec": {
   "display_name": "snow-hydrology",
   "language": "python",
   "name": "python3"
  },
  "language_info": {
   "codemirror_mode": {
    "name": "ipython",
    "version": 3
   },
   "file_extension": ".py",
   "mimetype": "text/x-python",
   "name": "python",
   "nbconvert_exporter": "python",
   "pygments_lexer": "ipython3",
   "version": "3.10.13"
  }
 },
 "nbformat": 4,
 "nbformat_minor": 2
}
