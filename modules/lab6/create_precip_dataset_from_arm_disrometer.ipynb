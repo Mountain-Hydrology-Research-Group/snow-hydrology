{
 "cells": [
  {
   "cell_type": "code",
   "execution_count": null,
   "metadata": {},
   "outputs": [],
   "source": [
    "import act\n",
    "import glob\n",
    "import numpy as np\n",
    "import xarray as xr\n",
    "import pandas as pd\n",
    "import datetime as dt\n",
    "import pytz\n",
    "\n",
    "from sublimpy import variables\n",
    "from sublimpy import utils\n",
    "from sublimpy import tidy\n",
    "\n",
    "import matplotlib.pyplot as plt\n",
    "\n",
    "import altair as alt\n",
    "alt.data_transformers.enable('json')"
   ]
  },
  {
   "cell_type": "code",
   "execution_count": null,
   "metadata": {},
   "outputs": [],
   "source": [
    "files = act.discovery.download_arm_data(\n",
    "    os.getenv(\"ARM_USERNAME\"),\n",
    "    os.getenv(\"ARM_TOKEN\"),\n",
    "    'gucldM1.b1',\n",
    "    '20221101',\n",
    "    '20230619',\n",
    "    output='/Users/elischwat/Development/data/sublimationofsnow/gucldM1.b1/'\n",
    ")"
   ]
  },
  {
   "cell_type": "code",
   "execution_count": null,
   "metadata": {},
   "outputs": [],
   "source": [
    "files = glob.glob('/Users/elischwat/Development/data/sublimationofsnow/gucldM1.b1/*.cdf')"
   ]
  },
  {
   "cell_type": "code",
   "execution_count": null,
   "metadata": {},
   "outputs": [],
   "source": [
    "precip_ds = xr.open_mfdataset(files)"
   ]
  },
  {
   "cell_type": "code",
   "execution_count": null,
   "metadata": {},
   "outputs": [],
   "source": [
    "precip_rate_30min = precip_ds['precip_rate'].resample(time='30min').mean()"
   ]
  }
 ],
 "metadata": {
  "language_info": {
   "name": "python"
  }
 },
 "nbformat": 4,
 "nbformat_minor": 2
}
