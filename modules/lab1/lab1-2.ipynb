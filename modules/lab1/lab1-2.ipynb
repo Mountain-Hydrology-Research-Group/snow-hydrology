{
 "cells": [
  {
   "cell_type": "markdown",
   "metadata": {},
   "source": [
    "# Phase Changes of Matter\n",
    "\n",
    "Snow scientists come from all different fields, bringing different perspectives to a subject that is complicated and research-worthy in chemistry, physics, materials science, geology, hydrology, and atmospheric science. \n",
    "\n",
    "One first step is to review the fundamental of physical chemistry and what makes the water molecule unique. Wikipedia is a good place to start to learn more about the [phase diagram](https://en.wikipedia.org/wiki/Phase_diagram).  To understand this in much more detail, you may want to check out [LibreTexts in Chemistry](https://chem.libretexts.org/Bookshelves/Physical_and_Theoretical_Chemistry_Textbook_Maps/Physical_Chemistry_(LibreTexts)/23%3A_Phase_Equilibria).\n",
    "\n",
    "It's worthwhile to review the basics of thermodynamics (often included as part of a physical chemistry class).  In particular, we are interested in the internal energy of our snow, which is a mixture of ice, water, and air.\n",
    "\n",
    "*Sensible Heat* can be defined as the sum of translational, vibrational, and rotational energies of molecules.  These movements increase with temperature; however, the relationship depends on molecular properties.\n",
    "\n",
    "*Specific Heat* at a constant pressure c_p is defined as the energy required to raise the temperature of a substance by 1 degree celcius.\n",
    "\n",
    "*Latent Heat* can be defined as the energy tied up in the phase of a system.  Intermolecular forces are strongest in solids and weakest in gases, and energy is required for molecules to move enough to escape the foreces of attraction between them. \n",
    "\n",
    "Let's import some packages we'll need, investigate the properties of water, ice, and snow, and make some basic calculations."
   ]
  },
  {
   "cell_type": "code",
   "execution_count": 10,
   "metadata": {},
   "outputs": [],
   "source": [
    "import numpy as np\n",
    "import pandas as pd\n",
    "import scipy.stats as stats\n",
    "import matplotlib.pyplot as plt\n",
    "%matplotlib inline"
   ]
  },
  {
   "cell_type": "code",
   "execution_count": 1,
   "metadata": {},
   "outputs": [],
   "source": [
    "# First, let's consider the basic thermodynamics of heating water, ice, and air, without phase changes.\n",
    "# The following are defined at 1 atmosphere of pressure.\n",
    "c_p_water = 4.2 #kJ K-1 kg-1\n",
    "c_p_ice = 2.1 #kJ K-1 kg-1\n",
    "c_p_air = 1.0 #kJ K-1 kg-1, note that this changes a lot with volume and pressure, we will neglect this for now"
   ]
  },
  {
   "cell_type": "markdown",
   "metadata": {},
   "source": [
    "For a first step at intuition, let's ignore changes in pressure and resulting impacts on the gas phase for now.\n",
    "Create a plot of how the temperature of 1 kg of a substance would change for each of water, ice, and air (considered generally for now) as a function of kJ of energy input for 0 to 1,000.\n",
    "\n",
    "I've plotted for water and ice.  Add in air, with the understanding that when it heats it will expand, so this is a gross simplification at this point."
   ]
  },
  {
   "cell_type": "code",
   "execution_count": 20,
   "metadata": {},
   "outputs": [],
   "source": [
    "energy = range(0,1000,1)\n",
    "cumdeltaT_water = np.divide(energy,c_p_water)\n",
    "cumdeltaT_ice = np.divide(energy,c_p_ice)"
   ]
  },
  {
   "cell_type": "code",
   "execution_count": 21,
   "metadata": {},
   "outputs": [
    {
     "data": {
      "image/png": "[encoded data removed]",
      "text/plain": [
       "<Figure size 504x216 with 1 Axes>"
      ]
     },
     "metadata": {
      "needs_background": "light"
     },
     "output_type": "display_data"
    }
   ],
   "source": [
    "\n",
    "\n",
    "# Create a new figure for a timeseries plot\n",
    "plt.figure(figsize=(7,3))\n",
    "\n",
    "# Use the plot() function to plot the year on the x-axis, peak flow values on\n",
    "# the y-axis with an open circle representing each peak flow value.\n",
    "plt.plot(energy, # our x value\n",
    "         cumdeltaT_water, # our y value\n",
    "         linestyle='-', # plot a solid line\n",
    "         color='blue') # make the line color blue\n",
    "\n",
    "plt.plot(energy, # our x value\n",
    "         cumdeltaT_ice, # our y value\n",
    "         linestyle='-', # plot a solid line\n",
    "         color='red') # make the line color blue\n",
    "        \n",
    "# Label the axes and title.\n",
    "plt.xlabel('Cumulative Energy Input (kJ)')\n",
    "plt.ylabel('Temperature Change (deg C or deg K)')\n",
    "plt.title('(Fig. 1) Energy plot');"
   ]
  },
  {
   "cell_type": "markdown",
   "metadata": {
    "jp-MarkdownHeadingCollapsed": true,
    "tags": []
   },
   "source": [
    "Now, let's presume that the temperature started at -10 C, so after 10 degrees temperature change, the kg of ice starts melting, and after 110 degrees temperature change, the water started evaporating.  Remake a plot similar to above incorporating the latent heat.  The latent heat values below will be helpful.\n",
    "\n",
    "Note:  I liked this [web page](https://www.e-education.psu.edu/earth111/node/841), but I was sad they don't use metric units.  If you find a better reference, please let me know.\n",
    "\n",
    "I also like this [Khan Academy video](https://www.youtube.com/watch?v=WU7TfO-iaK8) for the basics if you forgot freshman chem.  For a faster review, [Professor Dave Explains](https://www.youtube.com/watch?v=oc0ypeDELb0) it all in about 4 minutes."
   ]
  },
  {
   "cell_type": "code",
   "execution_count": null,
   "metadata": {},
   "outputs": [],
   "source": [
    "# latent heat of fusion for the ice-water transition\n",
    "L_f = 334 #kJ/kg\n",
    "# latent heat of vaporization for the water-vapor transition (evaporation)\n",
    "L_v = 2256 #kJ/kg\n",
    "# latent heat of vaporization for the ice-vapor transition (sublimation)\n",
    "L_s = L_f + L_v #kJ/kg"
   ]
  },
  {
   "cell_type": "markdown",
   "metadata": {},
   "source": [
    "Now consider the specific heat and latent heat of some other substances and compare them to water.  What is the importance of water being plentiful on our planet?"
   ]
  }
 ],
 "metadata": {
  "kernelspec": {
   "display_name": "Python 3 (ipykernel)",
   "language": "python",
   "name": "python3"
  },
  "language_info": {
   "codemirror_mode": {
    "name": "ipython",
    "version": 3
   },
   "file_extension": ".py",
   "mimetype": "text/x-python",
   "name": "python",
   "nbconvert_exporter": "python",
   "pygments_lexer": "ipython3",
   "version": "3.9.7"
  }
 },
 "nbformat": 4,
 "nbformat_minor": 4
}
